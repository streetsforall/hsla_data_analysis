{
 "cells": [
  {
   "cell_type": "markdown",
   "id": "3de49ab1-1aac-4756-9d90-9ae5c75a07de",
   "metadata": {
    "tags": []
   },
   "source": [
    "# Healthy Streets of Los Angeles Injuries/Deaths vs implemented Mobility in plan 2022\n",
    "This project compares a number of car accidents in 2022 resulted in deaths/injuries for streets with and without Mobility Plan safety improvements.\n",
    "\n",
    "Sources:\n",
    "* Injuries/Deaths in the City of LA https://tims.berkeley.edu/\n",
    "* Implepemented Mobility Plan shapefiles (see hsla_mobilty_plan project)\n",
    "\n",
    "Assumptions:\n",
    "* Location only City of Los Angeles\n",
    "* year is 2022\n",
    "* Excluding freeways (STATE_ROUTE is Null)\n",
    "\n",
    "Output:\n",
    "* deaths/injuries on LA streets in 2022 happened on streets missing mobility safety plan improvements\n",
    "* we consider only streets with mobility plan implemented after 2015, but if you need to change that - look for flag \"after_2015\", make it False\n",
    "\n",
    "Any questions - @sunchugasheva"
   ]
  },
  {
   "cell_type": "code",
   "execution_count": null,
   "id": "5d16af44-d52b-4dff-928e-81bdfdd25809",
   "metadata": {
    "tags": []
   },
   "outputs": [],
   "source": [
    "import pandas as pd\n",
    "import datetime\n",
    "import geopandas as gpd\n",
    "from shapely.geometry import Polygon, LineString, Point\n",
    "import folium\n",
    "\n",
    "pd.set_option('display.max_rows', 10000)\n",
    "pd.set_option('display.max_columns', 1000)"
   ]
  },
  {
   "cell_type": "markdown",
   "id": "1c5c745f-4905-46e6-b0a8-143df6862123",
   "metadata": {
    "jp-MarkdownHeadingCollapsed": true,
    "tags": []
   },
   "source": [
    "## functions"
   ]
  },
  {
   "cell_type": "code",
   "execution_count": null,
   "id": "34d7da30-6bfc-4919-b456-037aa454c72c",
   "metadata": {
    "tags": []
   },
   "outputs": [],
   "source": [
    "def show_map(gdf_names):\n",
    "    '''\n",
    "    show a number of gdfs with set colors\n",
    "    - gdfs_colors - dictionary with format:{'name': gdf}\n",
    "    ''' \n",
    "    colors = ['green', 'blue', 'red', 'orange', 'purple', 'yellow', 'magenta']\n",
    "    f = folium.Figure(width=1000, height=500)\n",
    "    m = folium.Map(location = [34.05, -118.24], zoom_start=10).add_to(f)\n",
    "    i = 0\n",
    "    \n",
    "    for name in gdf_names.keys():\n",
    "        color = colors[i]\n",
    "        i += 1\n",
    "        gdf = gdf_names[name]\n",
    "        print(f'{color}: {name}')\n",
    "        if gdf.loc[0, 'geometry'].geom_type!='Point':\n",
    "            gdf.explore(\n",
    "                m = m,\n",
    "                name = name,\n",
    "                color = color\n",
    "            )\n",
    "        else:\n",
    "            #folium.Marker(gdf).add_to(m)\n",
    "            folium.features.GeoJson(gdf).add_to(m)\n",
    "\n",
    "    folium.TileLayer(\n",
    "        'CartoDB positron',\n",
    "        show=False\n",
    "    ).add_to(m) \n",
    "    folium.LayerControl().add_to(m)\n",
    "    \n",
    "    return m"
   ]
  },
  {
   "cell_type": "code",
   "execution_count": null,
   "id": "1db6fe81-e2c5-4063-aa49-b3b5a1ed4a76",
   "metadata": {
    "tags": []
   },
   "outputs": [],
   "source": [
    "def buffer(gdf, radius, proj='EPSG:4326', proj_calc='EPSG:3857'):\n",
    "    '''\n",
    "    convert a gdf of linestrings into a gdf of polygons with radius\n",
    "    - gdf - GeoDataFrame, has column \"geometry\"\n",
    "    - radius - radius of bufferm meters\n",
    "    - proj - projection of the original dataset\n",
    "    - proj_calc='EPSG:3857' - projection for calculations\n",
    "    '''  \n",
    "    gdf = gdf.copy()\n",
    "    gdf_calc = gdf.to_crs(proj_calc)\n",
    "    #print('data proj:', proj, '\\ncalculation proj: ', proj_calc)\n",
    "    gdf['buffered'] = gdf_calc.buffer(radius, cap_style=2).to_crs(proj)\n",
    "    gdf.set_geometry('buffered', inplace=True)\n",
    "    \n",
    "    # merge all intersecting buffered polygons\n",
    "    gdf_return = gpd.GeoDataFrame(\n",
    "        geometry=[gdf.unary_union]\n",
    "    ).explode(\n",
    "        index_parts=False\n",
    "    ).reset_index(\n",
    "        drop=True\n",
    "    )\n",
    "    gdf_return.geometry.crs = proj\n",
    "    \n",
    "    return gdf_return"
   ]
  },
  {
   "cell_type": "code",
   "execution_count": null,
   "id": "2f78d7fd-a5ef-4644-9899-7388228fb7fb",
   "metadata": {},
   "outputs": [],
   "source": [
    "def get_tot_length_miles(\n",
    "    gdf, column='geometry', proj='EPSG:4326', proj_calc='EPSG:3857'):\n",
    "    '''\n",
    "    return a gdf with a column of linestring length in proj_calc units (m)\n",
    "    - gdf - GeoDataFrame\n",
    "    - column - column to be used for length calculation if not \"geometry\"\n",
    "    - proj - projection of the original dataset\n",
    "    - proj_calc='EPSG:3857' - projection for calculations\n",
    "    '''\n",
    "    if column:\n",
    "        gdf.set_geometry(column, inplace=True)\n",
    "    # convert projection to proj_calc, if default - the units will be in meters\n",
    "    gdf_m = gdf.to_crs('EPSG:3857')\n",
    "    gdf['length_mile'] = gdf_m.length/1609.34\n",
    "    length = round(gdf.length_mile.sum(), 2)\n",
    "    \n",
    "    return length\n",
    "\n",
    "def add_stat(dict_stat, stats):\n",
    "    '''\n",
    "    dict_stat - dictionary\n",
    "    stats - list of stats to unpack IN THE ORDER OF KEYS\n",
    "    '''\n",
    "    i=0\n",
    "    for key in dict_stat.keys():\n",
    "        dict_stat[key].append(stats[i])\n",
    "        i += 1\n",
    "    return dict_stat\n",
    "\n",
    "def crashes_type(df, col):\n",
    "    '''\n",
    "    df - originasl dataframe\n",
    "    col - column that we are interested in\n",
    "    '''\n",
    "    df = df[df[col]!=0].copy().reset_index(drop=True)\n",
    "    return df\n",
    "\n",
    "def intersect_gdf_crashes(name, gdf, crashes_gdf, radius, stat_gdfs):\n",
    "    print('intersecting ', name)\n",
    "    gdf_buffer = buffer(gdf, radius = radius)\n",
    "    intersect_crashes = gpd.GeoDataFrame()\n",
    "    for idx, row in gdf_buffer.iterrows():\n",
    "        intersection = crashes_gdf[crashes_gdf.covered_by(row['geometry'])]\n",
    "        intersect_crashes = pd.concat([\n",
    "                intersect_crashes,\n",
    "                intersection\n",
    "            ])\n",
    "    add_stat(stat_gdfs, [name, radius, intersect_crashes])\n",
    "        \n",
    "    return intersect_crashes"
   ]
  },
  {
   "cell_type": "code",
   "execution_count": null,
   "id": "5a841556-fa98-4d81-8998-4120faf642a9",
   "metadata": {},
   "outputs": [],
   "source": [
    "def get_stats(\n",
    "    crashes_gdf, impl_gdf, unimpl_gdf,\n",
    "    radius, stat_gdfs, stats, result\n",
    "):\n",
    "    \n",
    "    print('radius for buffer is', radius)\n",
    "    # get list of crashes for implemented/unimplemented streets\n",
    "    impl_crashes = intersect_gdf_crashes(\n",
    "        name = 'implemented_crashes',\n",
    "        gdf = impl_gdf,\n",
    "        crashes_gdf = crashes_gdf,\n",
    "        radius = radius,\n",
    "        stat_gdfs = stat_gdfs\n",
    "    )\n",
    "    unimpl_crashes = intersect_gdf_crashes(\n",
    "        name = 'unimplemented_crashes',\n",
    "        gdf = unimpl_gdf,\n",
    "        crashes_gdf = crashes_gdf,\n",
    "        radius = radius,\n",
    "        stat_gdfs = stat_gdfs\n",
    "    )\n",
    "    \n",
    "    # get lengths for implemented/unimplemented streets\n",
    "    length_impl_miles = get_tot_length_miles(impl_gdf)\n",
    "    print(length_impl_miles, 'miles implemented')\n",
    "    add_stat(\n",
    "        stats,\n",
    "        ['length_implemented', length_impl_miles, 'mile', radius]\n",
    "    )\n",
    "\n",
    "    length_unimpl_miles = get_tot_length_miles(unimpl_gdf)\n",
    "    print(length_unimpl_miles, 'miles unimplemented')\n",
    "    add_stat(\n",
    "        stats,\n",
    "        ['length_unimplemented', length_unimpl_miles, 'mile', radius]\n",
    "    )\n",
    "    \n",
    "    cols_calc = ['NUMBER_KILLED', 'NUMBER_INJURED', 'COUNT_SEVERE_INJ']\n",
    "    \n",
    "    for col in cols_calc:\n",
    "        print('calculating stats for', col)\n",
    "        result['parameter'].append(col)\n",
    "        result['radius'].append(radius)\n",
    "        impl = crashes_type(impl_crashes, col)\n",
    "        unimpl = crashes_type(unimpl_crashes, col)\n",
    "        total = crashes_type(crashes_gdf, col)\n",
    "        add_stat(gdfs, ['impl_'+col, impl, radius])\n",
    "        add_stat(gdfs, ['unimpl_'+col, unimpl, radius])\n",
    "        add_stat(gdfs, ['total_'+col, total, radius])    \n",
    "\n",
    "        impl_count = impl.shape[0]\n",
    "        unimpl_count = unimpl.shape[0]\n",
    "        total_count = total.shape[0]\n",
    "        add_stat(stats, ['impl_'+col, impl_count, 'crashes', radius])\n",
    "        add_stat(stats, ['unimpl_'+col, unimpl_count, 'crashes', radius])\n",
    "        add_stat(stats, ['total_'+col, total_count, 'crashes', radius])\n",
    "\n",
    "        impl_total = round(impl_count/total_count, 2)\n",
    "        unimpl_total = round(unimpl_count/total_count, 2)\n",
    "        impl_mile = round(impl_count/length_impl_miles, 2)\n",
    "        unimpl_mile = round(unimpl_count/length_unimpl_miles, 2)\n",
    "\n",
    "        result['impl_to_total'].append(impl_total)\n",
    "        result['unimpl_to_total'].append(unimpl_total)\n",
    "        result['imp_permile'].append(impl_mile)\n",
    "        result['unimpl_permile'].append(unimpl_mile)\n",
    "    \n",
    "    return result "
   ]
  },
  {
   "cell_type": "markdown",
   "id": "dade07f0-dc57-42c5-a054-8b8dc4bd7a9c",
   "metadata": {
    "tags": []
   },
   "source": [
    "# data"
   ]
  },
  {
   "cell_type": "code",
   "execution_count": null,
   "id": "c4ac4fce-63c6-43d6-a45e-f71d9497f7e4",
   "metadata": {
    "tags": []
   },
   "outputs": [],
   "source": [
    "today = datetime.datetime.now().strftime(\"%Y_%m_%d\")\n",
    "print(today)\n",
    "radius = 20 # our average street will be 40m wide\n",
    "after_2015 = False # if we need to count MP implemented after 2015\n",
    "if after_2015:\n",
    "    name_2015 = '_since_2015'\n",
    "else:\n",
    "    name_2015 = ''"
   ]
  },
  {
   "cell_type": "markdown",
   "id": "41e9eb3b-826d-4cab-a879-d12b43719e4a",
   "metadata": {
    "tags": []
   },
   "source": [
    "## data preparation"
   ]
  },
  {
   "cell_type": "markdown",
   "id": "7300751f-c217-46de-a21f-4e922c2ed69b",
   "metadata": {
    "jp-MarkdownHeadingCollapsed": true,
    "tags": []
   },
   "source": [
    "### get crashes data"
   ]
  },
  {
   "cell_type": "code",
   "execution_count": null,
   "id": "db5e8df1-78db-49fa-8815-2df436006afb",
   "metadata": {
    "tags": []
   },
   "outputs": [],
   "source": [
    "crashes_raw = pd.read_csv('Crashes.csv')\n",
    "display(crashes_raw.head(1))"
   ]
  },
  {
   "cell_type": "code",
   "execution_count": null,
   "id": "4f9e3edf-3764-494f-ba74-1218e4007202",
   "metadata": {
    "tags": []
   },
   "outputs": [],
   "source": [
    "# columns we are interested in\n",
    "crashes_col = [\n",
    "    'CASE_ID', 'COUNTY', 'CITY',\n",
    "    'ACCIDENT_YEAR', \n",
    "    'POINT_X', 'POINT_Y',\n",
    "    'NUMBER_KILLED', 'NUMBER_INJURED', \n",
    "    'COUNT_SEVERE_INJ',\n",
    "]\n",
    "\n",
    "# take only City of LA and not highways\n",
    "crashes = crashes_raw[\n",
    "        (crashes_raw.CITY=='LOS ANGELES')&\n",
    "        crashes_raw.STATE_ROUTE.isnull()&\n",
    "        (crashes_raw.ACCIDENT_YEAR==2022)\n",
    "    ][crashes_col].copy().reset_index(drop=True)\n",
    "display(crashes.head(1))"
   ]
  },
  {
   "cell_type": "code",
   "execution_count": null,
   "id": "91a09e58-c16a-4f66-8977-878b7bcd290d",
   "metadata": {
    "tags": []
   },
   "outputs": [],
   "source": [
    "# it looks like there are no records with no injuries/deaths\n",
    "display(crashes[\n",
    "    (crashes.NUMBER_KILLED==0)&\n",
    "    (crashes.NUMBER_INJURED==0)&\n",
    "    (crashes.COUNT_SEVERE_INJ==0)\n",
    "])\n",
    "display(crashes[\n",
    "    (crashes.NUMBER_KILLED.isnull())|\n",
    "    (crashes.NUMBER_INJURED.isnull())|\n",
    "    (crashes.COUNT_SEVERE_INJ.isnull())\n",
    "])"
   ]
  },
  {
   "cell_type": "code",
   "execution_count": null,
   "id": "b7af9a26-adff-44d9-b0e8-ceba8d08f078",
   "metadata": {
    "tags": []
   },
   "outputs": [],
   "source": [
    "#create geodataframe\n",
    "crashes_gdf = gpd.GeoDataFrame(\n",
    "    crashes[['CASE_ID', 'NUMBER_KILLED', 'NUMBER_INJURED', 'COUNT_SEVERE_INJ']],\n",
    "    geometry=gpd.points_from_xy(crashes['POINT_X'], crashes['POINT_Y'])\n",
    ")\n",
    "crashes_gdf.crs = 'EPSG:4326'"
   ]
  },
  {
   "cell_type": "code",
   "execution_count": null,
   "id": "a8fe80cf-a516-4536-8958-d6edd1ff933f",
   "metadata": {
    "tags": []
   },
   "outputs": [],
   "source": [
    "crashes[crashes.NUMBER_KILLED>0].shape[0], crashes[crashes.NUMBER_INJURED>0].shape[0]"
   ]
  },
  {
   "cell_type": "code",
   "execution_count": null,
   "id": "654d2beb-f7e7-46b4-8096-e58d80e65e6f",
   "metadata": {
    "tags": []
   },
   "outputs": [],
   "source": [
    "crashes.shape[0]"
   ]
  },
  {
   "cell_type": "markdown",
   "id": "c4d671e6-f8d9-4640-9807-648d7491cfef",
   "metadata": {
    "tags": []
   },
   "source": [
    "### get mobility_implemented data"
   ]
  },
  {
   "cell_type": "code",
   "execution_count": null,
   "id": "7d434047-915a-4971-acca-4996eb8afca1",
   "metadata": {
    "tags": []
   },
   "outputs": [],
   "source": [
    "files_implemented = [\n",
    "    f'unprotected_bike_lane_implemented{name_2015}_2023_11_29',\n",
    "    f'protected_bike_lane_implemented{name_2015}_2023_11_29',\n",
    "    f'NEN_bike_lane_implemented{name_2015}_2023_11_29',\n",
    "    f'class1_bike_lane_implemented{name_2015}_2023_12_06',\n",
    "    f'protected_bus_lane_implemented{name_2015}_2023_11_29'\n",
    "]\n",
    "\n",
    "mobility_implemented = gpd.GeoDataFrame()\n",
    "for file in files_implemented:\n",
    "    geo_file = open(f'../hsla_mobility_plan/{file}.geojson')\n",
    "    gdf = gpd.read_file(geo_file)\n",
    "    gdf['name'] = file[:-11]\n",
    "    display(gdf.head(1))\n",
    "    if mobility_implemented.shape[0]==0:\n",
    "        mobility_implemented = gdf[['name', 'length_m', 'geometry']].copy()\n",
    "    else:\n",
    "        mobility_implemented = pd.concat([\n",
    "            mobility_implemented,\n",
    "            gdf[['name', 'length_m', 'geometry']]]\n",
    "        )"
   ]
  },
  {
   "cell_type": "markdown",
   "id": "2ef88bfd-5550-4674-a1f5-d1f7507e0380",
   "metadata": {
    "tags": []
   },
   "source": [
    "### get mobility_unimplemented data"
   ]
  },
  {
   "cell_type": "code",
   "execution_count": null,
   "id": "50f5ad02-174b-4a60-aa46-496abfdd2020",
   "metadata": {
    "tags": []
   },
   "outputs": [],
   "source": [
    "files_plan = [\n",
    "    'Bicycle_Enhanced_Network_Paths',\n",
    "    'Bicycle_Enhanced_Network',\n",
    "    'Neighborhood_Enhanced_Network',\n",
    "    'Transit_Enhanced_Network'\n",
    "]\n",
    "\n",
    "mobility_plan = gpd.GeoDataFrame()\n",
    "for file in files_plan:\n",
    "    geo_file = open(f'../hsla_mobility_plan/{file}.geojson')\n",
    "    gdf = gpd.read_file(geo_file)\n",
    "    gdf['name'] = file\n",
    "    display(gdf.head(1))\n",
    "    print(gdf.shape)\n",
    "    if mobility_plan.shape[0]==0:\n",
    "        mobility_plan = gdf[['name', 'Shape__Length', 'geometry']].copy()\n",
    "    else:\n",
    "        mobility_plan = pd.concat([\n",
    "            mobility_plan,\n",
    "            gdf[['name', 'Shape__Length', 'geometry']]]\n",
    "        )"
   ]
  },
  {
   "cell_type": "code",
   "execution_count": null,
   "id": "fabecf9f-6903-4de9-8cb1-21cec62efe51",
   "metadata": {
    "tags": []
   },
   "outputs": [],
   "source": [
    " # intersect polygons of actual and planned paths\n",
    "implemented_buffer = buffer(mobility_implemented, radius = 15)\n",
    "mobility_unimplemented = gpd.overlay(\n",
    "    mobility_plan, \n",
    "    implemented_buffer, \n",
    "    how='difference',\n",
    "    keep_geom_type=False\n",
    ")\n",
    "display(mobility_unimplemented.head())"
   ]
  },
  {
   "cell_type": "code",
   "execution_count": null,
   "id": "37535330-9e96-4a0a-9164-705f954964cb",
   "metadata": {
    "tags": []
   },
   "outputs": [],
   "source": [
    "mobility_implemented.to_file(\n",
    "    f'../mobility_implemented{name_2015}.geojson',\n",
    "    driver='GeoJSON'\n",
    ")\n",
    "mobility_unimplemented.to_file(\n",
    "    f'../mobility_unimplemented{name_2015}.geojson',\n",
    "    driver='GeoJSON'\n",
    ")"
   ]
  },
  {
   "cell_type": "code",
   "execution_count": null,
   "id": "e9690e50-d2da-40e8-9786-258a05774fc2",
   "metadata": {
    "tags": []
   },
   "outputs": [],
   "source": [
    "mobility_plan.shape[0], mobility_unimplemented.shape[0]"
   ]
  },
  {
   "cell_type": "markdown",
   "id": "6a98eee4-6ac3-4c1b-9368-f5bec566b8c8",
   "metadata": {},
   "source": [
    "## calculation"
   ]
  },
  {
   "cell_type": "markdown",
   "id": "a5e06c9f-1ea0-43f3-8e45-508c645cf0d0",
   "metadata": {},
   "source": [
    "so the structure of the data we're getting is:\n",
    "* stats - dictionary with keys as follows, that is going to be converted in dataframe of all different numbers, that we're going to use for calculation. This is mostly to keep an eye on numbers if they make sense\n",
    "* gdfs - dictionary where all geodataframes go for storage along the way, so we can export the ones we need\n",
    "* result - a dictionary with keys as follows to be converted to dataframe, effectively that is deliverables\n",
    "\n",
    "we do have a radius everywhere - depending on how wide (2*radius) we count the street to be (this is mostly important for intersections), we'll get different numbers of crashes"
   ]
  },
  {
   "cell_type": "code",
   "execution_count": null,
   "id": "1d549627-b938-45e2-aa26-71ac2896137c",
   "metadata": {
    "tags": []
   },
   "outputs": [],
   "source": [
    "stats = {index: [] for index in ['stat', 'value', 'unit', 'radius']}\n",
    "gdfs = {index: [] for index in ['name', 'radius', 'gdf']}\n",
    "cols_result = [\n",
    "        'parameter', 'radius', 'impl_to_total', 'unimpl_to_total',\n",
    "        'imp_permile', 'unimpl_permile'\n",
    "    ]\n",
    "result = {index: [] for index in cols_result }\n",
    "\n",
    "for radius in [15, 20]:\n",
    "    result_df = get_stats(\n",
    "        crashes_gdf = crashes_gdf, \n",
    "        impl_gdf  = mobility_implemented, \n",
    "        unimpl_gdf = mobility_unimplemented, \n",
    "        radius = radius, \n",
    "        stat_gdfs = gdfs, \n",
    "        stats = stats,\n",
    "        result = result\n",
    "    )\n",
    "\n",
    "result_df = pd.DataFrame.from_dict(result) \n",
    "display(result_df)    \n",
    "stats_df = pd.DataFrame.from_dict(stats)\n",
    "display(stats_df)"
   ]
  },
  {
   "cell_type": "code",
   "execution_count": null,
   "id": "2daa81a1-6041-42e0-ab7c-436056e87d3c",
   "metadata": {},
   "outputs": [],
   "source": [
    "result_df.to_csv(\n",
    "    f'2022_crashes_mp_unimplemented{name_2015}_{today}.csv',\n",
    "    index=False\n",
    ")\n",
    "stats_df.to_csv(\n",
    "    f'stats_2022_crashes_mp_unimplemented{name_2015}_{today}.csv',\n",
    "    index=False\n",
    ")"
   ]
  },
  {
   "cell_type": "code",
   "execution_count": null,
   "id": "9326dbad-177e-4f7b-b222-aaeb7e67958c",
   "metadata": {
    "tags": []
   },
   "outputs": [],
   "source": [
    "idxs = [0, 1, 11, 12]\n",
    "for i in idxs:\n",
    "    print(f\"for radius {gdfs['radius'][i]}:\\n\\\n",
    "    {gdfs['gdf'][i].shape[0]} {gdfs['name'][i]} total happened in 2022\")"
   ]
  },
  {
   "cell_type": "markdown",
   "id": "69d1eb33-4d6d-46fc-a4cf-ee326c4e65b2",
   "metadata": {
    "jp-MarkdownHeadingCollapsed": true,
    "tags": []
   },
   "source": [
    "# troubleshoot"
   ]
  },
  {
   "cell_type": "code",
   "execution_count": null,
   "id": "980cae5f-4da1-48a7-ab0e-65523dd21c77",
   "metadata": {
    "tags": []
   },
   "outputs": [],
   "source": [
    "test = gdfs['gdf'][0]"
   ]
  },
  {
   "cell_type": "code",
   "execution_count": null,
   "id": "38867356-71cc-42bf-98f3-db41c711ed2b",
   "metadata": {
    "tags": []
   },
   "outputs": [],
   "source": [
    "test.head()"
   ]
  },
  {
   "cell_type": "code",
   "execution_count": null,
   "id": "7d616b5b-e31f-454b-aef2-64861423096b",
   "metadata": {
    "tags": []
   },
   "outputs": [],
   "source": [
    "crashes_raw.head()"
   ]
  },
  {
   "cell_type": "code",
   "execution_count": null,
   "id": "876b2003-6c09-4a25-9813-27320ddbcd82",
   "metadata": {
    "tags": []
   },
   "outputs": [],
   "source": [
    "test = test.merge(\n",
    "    crashes_raw[['CASE_ID', 'COLLISION_DATE']],\n",
    "    on='CASE_ID',\n",
    "    how = 'left'\n",
    ")"
   ]
  },
  {
   "cell_type": "code",
   "execution_count": null,
   "id": "957ed996-5567-47b0-821c-d7a3870802da",
   "metadata": {
    "tags": []
   },
   "outputs": [],
   "source": [
    "# test.to_file('impl_crashes_2022.geojson', driver='GeoJSON')"
   ]
  }
 ],
 "metadata": {
  "kernelspec": {
   "display_name": "Python 3 (ipykernel)",
   "language": "python",
   "name": "python3"
  },
  "language_info": {
   "codemirror_mode": {
    "name": "ipython",
    "version": 3
   },
   "file_extension": ".py",
   "mimetype": "text/x-python",
   "name": "python",
   "nbconvert_exporter": "python",
   "pygments_lexer": "ipython3",
   "version": "3.11.5"
  }
 },
 "nbformat": 4,
 "nbformat_minor": 5
}

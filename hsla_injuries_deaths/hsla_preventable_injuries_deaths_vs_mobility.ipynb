{
 "cells": [
  {
   "cell_type": "markdown",
   "id": "3de49ab1-1aac-4756-9d90-9ae5c75a07de",
   "metadata": {
    "tags": []
   },
   "source": [
    "# Healthy Streets of Los Angeles Injuries/Deaths which could be prevented with implemented Mobility in plan 2022\n",
    "This project finds a number of car accidents that could have been prevented if the Mobility plan was implemented earlier going back to 2015.\n",
    "\n",
    "\n",
    "Sources:\n",
    "* Injuries/Deaths in the City of LA https://data.lacity.org/Public-Safety/Traffic-Collision-Data-from-2010-to-Present/d5tf-ez2w\n",
    "* Implepemented Mobility Plan shapefiles (see hsla_mobilty_plan project)\n",
    "\n",
    "Assumptions:\n",
    "* Location only City of Los Angeles\n",
    "* years are 2015-2023\n",
    "* Excluding freeways (STATE_ROUTE is Null)\n",
    "\n",
    "Output:\n",
    "* a number of deaths/injuries on LA streets that happened on streets missing mobility safety plan improvements at that time\n",
    "\n",
    "Any questions - @sunchugasheva"
   ]
  },
  {
   "cell_type": "code",
   "execution_count": null,
   "id": "5d16af44-d52b-4dff-928e-81bdfdd25809",
   "metadata": {
    "tags": []
   },
   "outputs": [],
   "source": [
    "import pandas as pd\n",
    "import datetime\n",
    "import geopandas as gpd\n",
    "from shapely.geometry import Polygon, LineString, Point\n",
    "import folium\n",
    "\n",
    "pd.set_option('display.max_rows', 10000)\n",
    "pd.set_option('display.max_columns', 1000)"
   ]
  },
  {
   "cell_type": "markdown",
   "id": "1c5c745f-4905-46e6-b0a8-143df6862123",
   "metadata": {
    "jp-MarkdownHeadingCollapsed": true,
    "tags": []
   },
   "source": [
    "## functions"
   ]
  },
  {
   "cell_type": "code",
   "execution_count": null,
   "id": "169cc0fd-b937-4d25-8484-e0c42411468b",
   "metadata": {
    "tags": []
   },
   "outputs": [],
   "source": [
    "def col_from_code(col, code):\n",
    "    new_col = col.str.contains('|'.join(code)).replace(\n",
    "        {True: 1, False: 0}\n",
    "    ).fillna(0).astype(int)\n",
    "    \n",
    "    return new_col\n",
    "\n",
    "def get_coords(line):\n",
    "    return list(map(float, line[1:-1].split(', ')))"
   ]
  },
  {
   "cell_type": "code",
   "execution_count": null,
   "id": "34d7da30-6bfc-4919-b456-037aa454c72c",
   "metadata": {
    "tags": []
   },
   "outputs": [],
   "source": [
    "def show_map(gdf_names):\n",
    "    '''\n",
    "    show a number of gdfs with set colors\n",
    "    - gdfs_colors - dictionary with format:{'name': gdf}\n",
    "    ''' \n",
    "    colors = ['green', 'blue', 'red', 'orange', 'purple', 'yellow', 'magenta']\n",
    "    f = folium.Figure(width=1000, height=500)\n",
    "    m = folium.Map(location = [34.05, -118.24], zoom_start=10).add_to(f)\n",
    "    i = 0\n",
    "    \n",
    "    for name in gdf_names.keys():\n",
    "        color = colors[i]\n",
    "        i += 1\n",
    "        gdf = gdf_names[name]\n",
    "        print(f'{color}: {name}')\n",
    "        if gdf.loc[0, 'geometry'].geom_type!='Point':\n",
    "            gdf.explore(\n",
    "                m = m,\n",
    "                name = name,\n",
    "                color = color\n",
    "            )\n",
    "        else:\n",
    "            #folium.Marker(gdf).add_to(m)\n",
    "            folium.features.GeoJson(gdf).add_to(m)\n",
    "\n",
    "    folium.TileLayer(\n",
    "        'CartoDB positron',\n",
    "        show=False\n",
    "    ).add_to(m) \n",
    "    folium.LayerControl().add_to(m)\n",
    "    \n",
    "    return m"
   ]
  },
  {
   "cell_type": "code",
   "execution_count": null,
   "id": "1db6fe81-e2c5-4063-aa49-b3b5a1ed4a76",
   "metadata": {
    "tags": []
   },
   "outputs": [],
   "source": [
    "def buffer(gdf, radius, proj='EPSG:4326', proj_calc='EPSG:3857'):\n",
    "    '''\n",
    "    convert a gdf of linestrings into a gdf of polygons with radius\n",
    "    - gdf - GeoDataFrame, has column \"geometry\"\n",
    "    - radius - radius of bufferm meters\n",
    "    - proj - projection of the original dataset\n",
    "    - proj_calc='EPSG:3857' - projection for calculations\n",
    "    '''  \n",
    "    gdf = gdf.copy()\n",
    "    gdf_calc = gdf.to_crs(proj_calc)\n",
    "    #print('data proj:', proj, '\\ncalculation proj: ', proj_calc)\n",
    "    gdf['buffered'] = gdf_calc.buffer(radius, cap_style=2).to_crs(proj)\n",
    "    gdf.set_geometry('buffered', inplace=True)\n",
    "    \n",
    "    # merge all intersecting buffered polygons\n",
    "    gdf_return = gpd.GeoDataFrame(\n",
    "        geometry=[gdf.unary_union]\n",
    "    ).explode(\n",
    "        index_parts=False\n",
    "    ).reset_index(\n",
    "        drop=True\n",
    "    )\n",
    "    gdf_return.geometry.crs = proj\n",
    "    \n",
    "    return gdf_return"
   ]
  },
  {
   "cell_type": "code",
   "execution_count": null,
   "id": "2f78d7fd-a5ef-4644-9899-7388228fb7fb",
   "metadata": {},
   "outputs": [],
   "source": [
    "def get_tot_length_miles(\n",
    "    gdf, column='geometry', proj='EPSG:4326', proj_calc='EPSG:3857'):\n",
    "    '''\n",
    "    return a gdf with a column of linestring length in proj_calc units (m)\n",
    "    - gdf - GeoDataFrame\n",
    "    - column - column to be used for length calculation if not \"geometry\"\n",
    "    - proj - projection of the original dataset\n",
    "    - proj_calc='EPSG:3857' - projection for calculations\n",
    "    '''\n",
    "    if column:\n",
    "        gdf.set_geometry(column, inplace=True)\n",
    "    # convert projection to proj_calc, if default - the units will be in meters\n",
    "    gdf_m = gdf.to_crs('EPSG:3857')\n",
    "    gdf['length_mile'] = gdf_m.length/1609.34\n",
    "    length = round(gdf.length_mile.sum(), 2)\n",
    "    \n",
    "    return length\n",
    "\n",
    "def add_stat(dict_stat, stats):\n",
    "    '''\n",
    "    dict_stat - dictionary\n",
    "    stats - list of stats to unpack IN THE ORDER OF KEYS\n",
    "    '''\n",
    "    i=0\n",
    "    for key in dict_stat.keys():\n",
    "        dict_stat[key].append(stats[i])\n",
    "        i += 1\n",
    "    return dict_stat\n",
    "\n",
    "def crashes_type(df, col):\n",
    "    '''\n",
    "    df - originasl dataframe\n",
    "    col - column that we are interested in\n",
    "    '''\n",
    "    df = df[df[col]!=0].copy().reset_index(drop=True)\n",
    "    return df\n",
    "\n",
    "def intersect_gdf_crashes(name, gdf, crashes_gdf, radius, stat_gdfs):\n",
    "    print('intersecting ', name)\n",
    "    gdf_buffer = buffer(gdf, radius = radius)\n",
    "    intersect_crashes = gpd.GeoDataFrame()\n",
    "    for idx, row in gdf_buffer.iterrows():\n",
    "        intersection = crashes_gdf[crashes_gdf.covered_by(row['geometry'])]\n",
    "        intersect_crashes = pd.concat([\n",
    "                intersect_crashes,\n",
    "                intersection\n",
    "            ])\n",
    "    add_stat(stat_gdfs, [name, radius, intersect_crashes])\n",
    "        \n",
    "    return intersect_crashes"
   ]
  },
  {
   "cell_type": "code",
   "execution_count": null,
   "id": "5a841556-fa98-4d81-8998-4120faf642a9",
   "metadata": {},
   "outputs": [],
   "source": [
    "def get_stats(\n",
    "    crashes_gdf, impl_gdf, unimpl_gdf,\n",
    "    radius, stat_gdfs, stats, result\n",
    "):\n",
    "    \n",
    "    print('radius for buffer is', radius)\n",
    "    # get list of crashes for implemented/unimplemented streets\n",
    "    impl_crashes = intersect_gdf_crashes(\n",
    "        name = 'implemented_crashes',\n",
    "        gdf = impl_gdf,\n",
    "        crashes_gdf = crashes_gdf,\n",
    "        radius = radius,\n",
    "        stat_gdfs = stat_gdfs\n",
    "    )\n",
    "    unimpl_crashes = intersect_gdf_crashes(\n",
    "        name = 'unimplemented_crashes',\n",
    "        gdf = unimpl_gdf,\n",
    "        crashes_gdf = crashes_gdf,\n",
    "        radius = radius,\n",
    "        stat_gdfs = stat_gdfs\n",
    "    )\n",
    "    \n",
    "    # get lengths for implemented/unimplemented streets\n",
    "    length_impl_miles = get_tot_length_miles(impl_gdf)\n",
    "    print(length_impl_miles, 'miles implemented')\n",
    "    add_stat(\n",
    "        stats,\n",
    "        ['length_implemented', length_impl_miles, 'mile', radius]\n",
    "    )\n",
    "\n",
    "    length_unimpl_miles = get_tot_length_miles(unimpl_gdf)\n",
    "    print(length_unimpl_miles, 'miles unimplemented')\n",
    "    add_stat(\n",
    "        stats,\n",
    "        ['length_unimplemented', length_unimpl_miles, 'mile', radius]\n",
    "    )\n",
    "    \n",
    "    cols_calc = ['NUMBER_KILLED', 'NUMBER_INJURED', 'COUNT_SEVERE_INJ']\n",
    "    \n",
    "    for col in cols_calc:\n",
    "        print('calculating stats for', col)\n",
    "        result['parameter'].append(col)\n",
    "        result['radius'].append(radius)\n",
    "        impl = crashes_type(impl_crashes, col)\n",
    "        unimpl = crashes_type(unimpl_crashes, col)\n",
    "        total = crashes_type(crashes_gdf, col)\n",
    "        add_stat(gdfs, ['impl_'+col, impl, radius])\n",
    "        add_stat(gdfs, ['unimpl_'+col, unimpl, radius])\n",
    "        add_stat(gdfs, ['total_'+col, total, radius])    \n",
    "\n",
    "        impl_count = impl.shape[0]\n",
    "        unimpl_count = unimpl.shape[0]\n",
    "        total_count = total.shape[0]\n",
    "        add_stat(stats, ['impl_'+col, impl_count, 'crashes', radius])\n",
    "        add_stat(stats, ['unimpl_'+col, unimpl_count, 'crashes', radius])\n",
    "        add_stat(stats, ['total_'+col, total_count, 'crashes', radius])\n",
    "\n",
    "        impl_total = round(impl_count/total_count, 2)\n",
    "        unimpl_total = round(unimpl_count/total_count, 2)\n",
    "        impl_mile = round(impl_count/length_impl_miles, 2)\n",
    "        unimpl_mile = round(unimpl_count/length_unimpl_miles, 2)\n",
    "\n",
    "        result['impl_to_total'].append(impl_total)\n",
    "        result['unimpl_to_total'].append(unimpl_total)\n",
    "        result['imp_permile'].append(impl_mile)\n",
    "        result['unimpl_permile'].append(unimpl_mile)\n",
    "    \n",
    "    return result "
   ]
  },
  {
   "cell_type": "markdown",
   "id": "dade07f0-dc57-42c5-a054-8b8dc4bd7a9c",
   "metadata": {
    "tags": []
   },
   "source": [
    "# data"
   ]
  },
  {
   "cell_type": "code",
   "execution_count": null,
   "id": "c4ac4fce-63c6-43d6-a45e-f71d9497f7e4",
   "metadata": {
    "tags": []
   },
   "outputs": [],
   "source": [
    "today = datetime.datetime.now()\n",
    "print(today)\n",
    "radius = 20 # our average street will be 40m wide"
   ]
  },
  {
   "cell_type": "markdown",
   "id": "41e9eb3b-826d-4cab-a879-d12b43719e4a",
   "metadata": {
    "tags": []
   },
   "source": [
    "## data preparation"
   ]
  },
  {
   "cell_type": "markdown",
   "id": "7300751f-c217-46de-a21f-4e922c2ed69b",
   "metadata": {
    "tags": []
   },
   "source": [
    "### get crashes data"
   ]
  },
  {
   "cell_type": "code",
   "execution_count": null,
   "id": "10b22385-c441-43a6-81e7-502222dd4795",
   "metadata": {
    "tags": []
   },
   "outputs": [],
   "source": [
    "crashes_raw = pd.read_csv('LAPD_crashes.csv')\n",
    "display(crashes_raw.head(1))"
   ]
  },
  {
   "cell_type": "code",
   "execution_count": null,
   "id": "cc282985-6942-4395-99b8-0dd85e50cd8a",
   "metadata": {
    "tags": []
   },
   "outputs": [],
   "source": [
    "cols_dict = {\n",
    "    'DR Number': 'case_id',\n",
    "    'Date Occurred': 'collision_date',\n",
    "    'Address': 'primary_rd',\n",
    "    'Cross Street': 'secondary_rd',\n",
    "    'Location': 'location',\n",
    "    'MO Codes': 'mo_codes',\n",
    "    'Premise Description': 'loc_description'\n",
    "}\n",
    "crashes = crashes_raw.copy().rename(columns = cols_dict)\n",
    "crashes = crashes[cols_dict.values()]\n",
    "crashes['year'] = crashes.collision_date.str[-4:].astype(int)\n",
    "\n",
    "new_cols_dict = {\n",
    "    'injury': ['3024', '3025', '3026'],\n",
    "    'death': ['3027'],\n",
    "    'veh_ped': ['3003',  '3501'],\n",
    "    'veh_bike': ['3008'],\n",
    "    'veh_veh': ['3004']\n",
    "}\n",
    "for key, value in new_cols_dict.items():\n",
    "    crashes[key] = col_from_code(crashes.mo_codes, value)"
   ]
  },
  {
   "cell_type": "code",
   "execution_count": null,
   "id": "f8b6b10c-4f29-4eca-ada0-903cc16b7e25",
   "metadata": {
    "tags": []
   },
   "outputs": [],
   "source": [
    "locations = [\n",
    "    'STREET', 'SIDEWALK', 'ALLEY', 'DRIVEWAY',\n",
    "    'MTA BUS', 'BUS STOP'\n",
    "]\n",
    "\n",
    "crashes_count = crashes[\n",
    "    ((crashes.injury!=0)|(crashes.death!=0))&\n",
    "    ((crashes.veh_ped!=0)|(crashes.veh_bike!=0)|(crashes.veh_veh!=0))&\n",
    "    (crashes.loc_description.isin(locations))&\n",
    "    (crashes.year>2015)\n",
    "].copy().reset_index(drop=True)\n",
    "\n",
    "crashes_count.location = crashes_count.location.apply(lambda x: get_coords(x))\n",
    "crashes_count[['loc_x', 'loc_y']] = crashes_count.location.to_list()"
   ]
  },
  {
   "cell_type": "code",
   "execution_count": null,
   "id": "5fd9682f-f514-42c3-b3ca-82b93a7bdc4a",
   "metadata": {
    "tags": []
   },
   "outputs": [],
   "source": [
    "crashes_count.head()"
   ]
  },
  {
   "cell_type": "code",
   "execution_count": null,
   "id": "1ff912ce-c7b8-49da-883d-3a42964b24e5",
   "metadata": {
    "tags": []
   },
   "outputs": [],
   "source": [
    "crashes.shape[0], crashes_count.shape[0]"
   ]
  },
  {
   "cell_type": "code",
   "execution_count": null,
   "id": "b7af9a26-adff-44d9-b0e8-ceba8d08f078",
   "metadata": {
    "tags": []
   },
   "outputs": [],
   "source": [
    "#create geodataframe\n",
    "crashes_gdf = gpd.GeoDataFrame(\n",
    "    crashes_count[[\n",
    "        'case_id', 'collision_date',\n",
    "        'injury', 'death', 'veh_ped', 'veh_bike', 'veh_veh'\n",
    "    ]],\n",
    "    geometry = gpd.points_from_xy(crashes_count.loc_x, crashes_count.loc_y)\n",
    ")\n",
    "crashes_gdf.crs = 'EPSG:4326'"
   ]
  },
  {
   "cell_type": "markdown",
   "id": "c4d671e6-f8d9-4640-9807-648d7491cfef",
   "metadata": {
    "tags": []
   },
   "source": [
    "### get mobility data with dates of implementation"
   ]
  },
  {
   "cell_type": "code",
   "execution_count": null,
   "id": "bb8a3df4-faa0-47dc-8439-bded101b7f76",
   "metadata": {},
   "outputs": [],
   "source": []
  },
  {
   "cell_type": "code",
   "execution_count": null,
   "id": "9db5f5a9-48e8-466d-928e-e9fe08b155e0",
   "metadata": {},
   "outputs": [],
   "source": []
  },
  {
   "cell_type": "code",
   "execution_count": null,
   "id": "9f668073-67ed-45de-a197-4c994fbd7172",
   "metadata": {},
   "outputs": [],
   "source": []
  },
  {
   "cell_type": "code",
   "execution_count": null,
   "id": "4408ff94-0061-4fb1-92f5-e57ff4c2e6ef",
   "metadata": {},
   "outputs": [],
   "source": []
  }
 ],
 "metadata": {
  "kernelspec": {
   "display_name": "Python 3 (ipykernel)",
   "language": "python",
   "name": "python3"
  },
  "language_info": {
   "codemirror_mode": {
    "name": "ipython",
    "version": 3
   },
   "file_extension": ".py",
   "mimetype": "text/x-python",
   "name": "python",
   "nbconvert_exporter": "python",
   "pygments_lexer": "ipython3",
   "version": "3.11.5"
  }
 },
 "nbformat": 4,
 "nbformat_minor": 5
}

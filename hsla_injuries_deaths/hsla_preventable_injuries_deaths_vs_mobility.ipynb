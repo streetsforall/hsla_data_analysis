{
 "cells": [
  {
   "cell_type": "markdown",
   "id": "3de49ab1-1aac-4756-9d90-9ae5c75a07de",
   "metadata": {
    "tags": []
   },
   "source": [
    "# Healthy Streets of Los Angeles Injuries/Deaths which could be prevented with implemented Mobility in plan 2022\n",
    "This project finds a number of car accidents that could have been prevented if the Mobility plan was implemented earlier going back to 2015.\n",
    "\n",
    "\n",
    "Sources:\n",
    "* Injuries/Deaths in the City of LA https://data.lacity.org/Public-Safety/Traffic-Collision-Data-from-2010-to-Present/d5tf-ez2w\n",
    "* Implepemented Mobility Plan shapefiles (see hsla_mobilty_plan project)\n",
    "\n",
    "Assumptions:\n",
    "* Location only City of Los Angeles\n",
    "* years are 2015-2023\n",
    "* Excluding freeways (STATE_ROUTE is Null)\n",
    "\n",
    "Output:\n",
    "* a number of deaths/injuries on LA streets that happened on streets missing mobility safety plan improvements at that time\n",
    "\n",
    "Note:\n",
    "* it doesn't matter if we overlap roads with implemented mobility measures only after 2015 or an general, because we're looking for preventable crashes. so it means that all crashes are after 2015, and they are preventable if there is no mobility plan measure has been implemented at the time of the crash, so if already have a bike path - the crash is not preventable.\n",
    "\n",
    "Any questions - @sunchugasheva"
   ]
  },
  {
   "cell_type": "code",
   "execution_count": null,
   "id": "5d16af44-d52b-4dff-928e-81bdfdd25809",
   "metadata": {
    "tags": []
   },
   "outputs": [],
   "source": [
    "import pandas as pd\n",
    "import datetime\n",
    "import geopandas as gpd\n",
    "from shapely.geometry import Polygon, LineString, Point\n",
    "import folium\n",
    "\n",
    "pd.set_option('display.max_rows', 10000)\n",
    "pd.set_option('display.max_columns', 1000)"
   ]
  },
  {
   "cell_type": "code",
   "execution_count": null,
   "id": "c4ac4fce-63c6-43d6-a45e-f71d9497f7e4",
   "metadata": {
    "tags": []
   },
   "outputs": [],
   "source": [
    "today = datetime.datetime.now().strftime(\"%Y_%m_%d\")\n",
    "print(today)\n",
    "year_mobility = 2015 # we compare only mobility plan improvements, so after 2015\n",
    "radius = 20 # our average street will be 40m wide"
   ]
  },
  {
   "cell_type": "markdown",
   "id": "1c5c745f-4905-46e6-b0a8-143df6862123",
   "metadata": {
    "jp-MarkdownHeadingCollapsed": true,
    "tags": []
   },
   "source": [
    "## functions"
   ]
  },
  {
   "cell_type": "code",
   "execution_count": null,
   "id": "169cc0fd-b937-4d25-8484-e0c42411468b",
   "metadata": {
    "tags": []
   },
   "outputs": [],
   "source": [
    "def col_from_code(col, code):\n",
    "    new_col = col.str.contains('|'.join(code)).replace(\n",
    "        {True: 1, False: 0}\n",
    "    ).fillna(0).astype(int)\n",
    "    \n",
    "    return new_col\n",
    "\n",
    "def get_coords(line):\n",
    "    return list(map(float, line[1:-1].split(', ')))"
   ]
  },
  {
   "cell_type": "code",
   "execution_count": null,
   "id": "34d7da30-6bfc-4919-b456-037aa454c72c",
   "metadata": {
    "tags": []
   },
   "outputs": [],
   "source": [
    "# todo: change all show_map to show_maps\n",
    "def show_map(gdf1, name1, color1, gdf2, name2, color2):\n",
    "    \n",
    "    print(\n",
    "            f'{color1}: {name1}, {color2}: {name2}'\n",
    "        )\n",
    "    \n",
    "    f = folium.Figure(width=1000, height=500)\n",
    "    \n",
    "    m = gdf1.explore(\n",
    "        name = name1,\n",
    "        color = color1\n",
    "    ).add_to(f)\n",
    "\n",
    "    map_2 = gdf2.explore(\n",
    "        m=m,  # pass the map object\n",
    "        name = name2,\n",
    "        color = color2\n",
    "    )\n",
    "\n",
    "    folium.TileLayer(\n",
    "        'CartoDB positron',\n",
    "        show=False\n",
    "    ).add_to(m) \n",
    "\n",
    "    folium.LayerControl().add_to(m)\n",
    "    \n",
    "    return m\n",
    "\n",
    "def show_maps(gdf_names):\n",
    "    '''\n",
    "    show a number of gdfs with set colors\n",
    "    - gdfs_colors - dictionary with format:{'name': gdf}\n",
    "    ''' \n",
    "    colors = ['green', 'blue', 'red', 'orange', 'purple', 'yellow', 'magenta']\n",
    "    f = folium.Figure(width=1000, height=500)\n",
    "    m = folium.Map(location = [34.05, -118.24], zoom_start=50).add_to(f)\n",
    "    i = 0\n",
    "    \n",
    "    for name in gdf_names.keys():\n",
    "        color = colors[i]\n",
    "        i += 1\n",
    "        gdf = gdf_names[name]\n",
    "        print(f'{color}: {name}')\n",
    "        if gdf.loc[0, 'geometry'].geom_type!='Point':\n",
    "            gdf.explore(\n",
    "                m = m,\n",
    "                name = name,\n",
    "                color = color\n",
    "            )\n",
    "        else:\n",
    "            #folium.Marker(gdf).add_to(m)\n",
    "            #folium.features.GeoJson(gdf).add_to(m)\n",
    "            folium.GeoJson(\n",
    "                gdf,\n",
    "                marker=folium.Circle(\n",
    "                    radius=20, fill_color=color,\n",
    "                    fill_opacity=0.6, color=color, weight=1\n",
    "                )                \n",
    "            ).add_to(m)  \n",
    "\n",
    "    folium.TileLayer(\n",
    "        'CartoDB positron',\n",
    "        show=False\n",
    "    ).add_to(m) \n",
    "    folium.LayerControl().add_to(m)\n",
    "    \n",
    "    return m"
   ]
  },
  {
   "cell_type": "code",
   "execution_count": null,
   "id": "1db6fe81-e2c5-4063-aa49-b3b5a1ed4a76",
   "metadata": {
    "tags": []
   },
   "outputs": [],
   "source": [
    "def buffer(gdf, radius, proj='EPSG:4326', proj_calc='EPSG:3857'):\n",
    "    '''\n",
    "    convert a gdf of linestrings into a gdf of polygons with radius\n",
    "    - gdf - GeoDataFrame, has column \"geometry\"\n",
    "    - radius - radius of bufferm meters\n",
    "    - proj - projection of the original dataset\n",
    "    - proj_calc='EPSG:3857' - projection for calculations\n",
    "    '''  \n",
    "    gdf = gdf.copy()\n",
    "    gdf_calc = gdf.to_crs(proj_calc)\n",
    "    #print('data proj:', proj, '\\ncalculation proj: ', proj_calc)\n",
    "    gdf['buffered'] = gdf_calc.buffer(radius, cap_style=2).to_crs(proj)\n",
    "\n",
    "    gdf_return = gdf.copy()\n",
    "    gdf_return.geometry = gdf_return.buffered\n",
    "    gdf_return.set_geometry('geometry', inplace=True)\n",
    "    gdf_return.geometry.crs = proj\n",
    "    \n",
    "    return gdf_return"
   ]
  },
  {
   "cell_type": "code",
   "execution_count": null,
   "id": "9db5f5a9-48e8-466d-928e-e9fe08b155e0",
   "metadata": {
    "tags": []
   },
   "outputs": [],
   "source": [
    "def overlap_plan_actual(\n",
    "        name,\n",
    "        gdf_plan,\n",
    "        gdf_actual,\n",
    "        conditions,\n",
    "        radius = 10,\n",
    "        year = None,\n",
    "        column_year = 'Year_',\n",
    "        print_map = True,\n",
    "        test_map = False\n",
    "    ):\n",
    "    '''\n",
    "    - name \n",
    "    - gdf_plan - GeoDataFrame of Mobility plan\n",
    "    - gdf_actual - GeoDataFrame of existing roads, has a column_year\n",
    "    - conditions - filter specific types of bike/bus lanes\n",
    "    - radius - radius in meters to widen the line of actual roads\n",
    "    - year - filter data after construction year\n",
    "    - column_year - column of construction year\n",
    "    - print_map - show final map\n",
    "    - test_map - show interim map\n",
    "    '''\n",
    "    print(f'{name} for year after {year}:')\n",
    "    gdf_plan = gdf_plan.copy()\n",
    "    gdf_actual = gdf_actual.copy()\n",
    "    \n",
    "    if year:\n",
    "        gdf_actual = gdf_actual[gdf_actual[column_year]>year].copy()\n",
    "    if conditions['plan']:\n",
    "        if 'bike' in key:\n",
    "            gdf_plan = gdf_plan[gdf_plan.BICYCLE_N.isin(\n",
    "                conditions['plan']\n",
    "            )].copy()\n",
    "        if 'bus' in key:\n",
    "            gdf_plan = gdf_plan[gdf_plan.TRANSIT_N.isin(\n",
    "                conditions['plan']\n",
    "            )].copy()\n",
    "    if conditions['actual']:\n",
    "            gdf_actual = gdf_actual[gdf_actual.Class.isin(\n",
    "                conditions['actual']\n",
    "            )].copy()\n",
    "    \n",
    "    print(f'radius = {radius} m')\n",
    "    # widen linestring to polygon\n",
    "    gdf_plan_buffer = buffer(\n",
    "        gdf_plan, \n",
    "        radius = radius,\n",
    "        proj = gdf_plan.geometry.crs\n",
    "    )\n",
    "    if test_map:\n",
    "        display(\n",
    "            show_map(\n",
    "                gdf2 = gdf_plan_buffer[['geometry']],\n",
    "                name2 = 'plan', \n",
    "                color2 = 'blue',\n",
    "                gdf1 = gdf_actual[['geometry']],\n",
    "                name1 = 'actual', \n",
    "                color1 = 'green',\n",
    "            )\n",
    "        )\n",
    "    \n",
    "    # intersect polygons of actual and planned paths\n",
    "    gdf_implemented = gpd.overlay(\n",
    "        gdf_actual, \n",
    "        gdf_plan_buffer, \n",
    "        how='intersection',\n",
    "        keep_geom_type=False\n",
    "    )\n",
    "    gdf_implemented = get_lengths(gdf_implemented)\n",
    "    gdf_implemented = gdf_implemented[\n",
    "        round(gdf_implemented.length_m/(radius*2), 2)>1.01\n",
    "    ].reset_index(drop=True)\n",
    "    \n",
    "    # map of buffered planned (green) and implemented (red) paths\n",
    "    if print_map:\n",
    "        display(\n",
    "            show_map(\n",
    "                gdf2 = gdf_implemented[['geometry']],\n",
    "                name2 = 'implemented', \n",
    "                color2 = 'red',\n",
    "                gdf1 = gdf_plan[['geometry']],\n",
    "                name1 = 'plan', \n",
    "                color1 = 'green',\n",
    "            )\n",
    "        )\n",
    "        \n",
    "    print(\n",
    "        'since', year, 'year:',\n",
    "        round(get_lengths(gdf_implemented).length_m.sum()/1609.34, 2), 'miles implemented of ',\n",
    "        round(get_lengths(gdf_plan).length_m.sum()/1609.34, 2), 'miles planned',\n",
    "        # '\\nimplemented lanes records:', gdf_implemented.shape[0],\n",
    "        # '\\nplanned lanes records:', gdf_plan.shape[0]        \n",
    "    )\n",
    "    \n",
    "    percentage = round(\n",
    "        get_lengths(gdf_implemented).length_m.sum()/\n",
    "        get_lengths(gdf_plan).length_m.sum()*100, \n",
    "        2\n",
    "    )\n",
    "    print(f'total {gdf_implemented.shape[0]} records')\n",
    "    \n",
    "    return percentage, gdf_implemented\n",
    "\n",
    "def get_lengths(gdf, column='geometry', proj='EPSG:4326', proj_calc='EPSG:3857'):\n",
    "    '''\n",
    "    return a gdf with a column of linestring length in proj_calc units (m)\n",
    "    - gdf - GeoDataFrame\n",
    "    - column - column to be used for length calculation if not \"geometry\"\n",
    "    - proj - projection of the original dataset\n",
    "    - proj_calc='EPSG:3857' - projection for calculations\n",
    "    '''\n",
    "    if column:\n",
    "        gdf.set_geometry(column, inplace=True)\n",
    "    # convert projection to proj_calc, if default - the units will be in meters\n",
    "    gdf_m = gdf.to_crs(proj_calc)\n",
    "    gdf['length_m'] = gdf_m.length\n",
    "    \n",
    "    return gdf"
   ]
  },
  {
   "cell_type": "code",
   "execution_count": null,
   "id": "2f78d7fd-a5ef-4644-9899-7388228fb7fb",
   "metadata": {
    "tags": []
   },
   "outputs": [],
   "source": [
    "def intersect_gdf_crashes(name, gdf, crashes_gdf, date_col, radius=20):\n",
    "    \n",
    "    print('radius for buffer is', radius)\n",
    "    print('intersecting ', name)\n",
    "    gdf_buffer = buffer(gdf, radius = radius)\n",
    "    intersect_crashes = gpd.GeoDataFrame()\n",
    "    for idx, row in gdf_buffer.iterrows():\n",
    "        intersection = crashes_gdf[\n",
    "            crashes_gdf.covered_by(row['geometry'])\n",
    "        ].copy()\n",
    "        intersection['install_date'] = row[date_col]\n",
    "        intersect_crashes = pd.concat([\n",
    "                intersect_crashes,\n",
    "                intersection\n",
    "            ])\n",
    "        \n",
    "    return intersect_crashes"
   ]
  },
  {
   "cell_type": "markdown",
   "id": "dade07f0-dc57-42c5-a054-8b8dc4bd7a9c",
   "metadata": {
    "tags": []
   },
   "source": [
    "# data"
   ]
  },
  {
   "cell_type": "markdown",
   "id": "7300751f-c217-46de-a21f-4e922c2ed69b",
   "metadata": {
    "tags": []
   },
   "source": [
    "## get crashes data"
   ]
  },
  {
   "cell_type": "code",
   "execution_count": null,
   "id": "10b22385-c441-43a6-81e7-502222dd4795",
   "metadata": {
    "tags": []
   },
   "outputs": [],
   "source": [
    "crashes_raw = pd.read_csv('LAPD_crashes.csv')\n",
    "display(crashes_raw.head(1))"
   ]
  },
  {
   "cell_type": "code",
   "execution_count": null,
   "id": "cc282985-6942-4395-99b8-0dd85e50cd8a",
   "metadata": {
    "tags": []
   },
   "outputs": [],
   "source": [
    "cols_dict = {\n",
    "    'DR Number': 'case_id',\n",
    "    'Date Occurred': 'collision_date',\n",
    "    'Address': 'primary_rd',\n",
    "    'Cross Street': 'secondary_rd',\n",
    "    'Location': 'location',\n",
    "    'MO Codes': 'mo_codes',\n",
    "    'Premise Description': 'loc_description'\n",
    "}\n",
    "crashes = crashes_raw.copy().rename(columns = cols_dict)\n",
    "crashes = crashes[cols_dict.values()]\n",
    "crashes['year'] = crashes.collision_date.str[-4:].astype(int)\n",
    "crashes.collision_date = pd.to_datetime(crashes.collision_date).dt.date\n",
    "\n",
    "new_cols_dict = {\n",
    "    'injury': ['3024', '3025', '3026'],\n",
    "    'death': ['3027'],\n",
    "    #'hit_run': ['3029', '3030'],\n",
    "    #'doored': ['3603'],\n",
    "    'veh_ped': ['3003',  '3501'],\n",
    "    'veh_bike': ['3008'],\n",
    "    'veh_veh': ['3004']\n",
    "}\n",
    "for key, value in new_cols_dict.items():\n",
    "    crashes[key] = col_from_code(crashes.mo_codes, value)"
   ]
  },
  {
   "cell_type": "code",
   "execution_count": null,
   "id": "54dab861-8442-4804-878d-8d7e299a3329",
   "metadata": {
    "tags": []
   },
   "outputs": [],
   "source": [
    "crashes.shape[0]"
   ]
  },
  {
   "cell_type": "code",
   "execution_count": null,
   "id": "f8b6b10c-4f29-4eca-ada0-903cc16b7e25",
   "metadata": {
    "tags": []
   },
   "outputs": [],
   "source": [
    "locations = [\n",
    "    'STREET', 'SIDEWALK', 'ALLEY', 'DRIVEWAY',\n",
    "    'MTA BUS', 'BUS STOP'\n",
    "]\n",
    "\n",
    "crashes_count = crashes[\n",
    "    ((crashes.injury!=0)|(crashes.death!=0))&\n",
    "    ((crashes.veh_ped!=0)|(crashes.veh_bike!=0)|(crashes.veh_veh!=0))&\n",
    "    (crashes.loc_description.isin(locations))&\n",
    "    (crashes.year>year_mobility)\n",
    "].copy().reset_index(drop=True)\n",
    "\n",
    "crashes_count.location = crashes_count.location.apply(lambda x: get_coords(x))\n",
    "crashes_count[['loc_y', 'loc_x']] = crashes_count.location.to_list()"
   ]
  },
  {
   "cell_type": "code",
   "execution_count": null,
   "id": "5fd9682f-f514-42c3-b3ca-82b93a7bdc4a",
   "metadata": {
    "tags": []
   },
   "outputs": [],
   "source": [
    "print(crashes.shape[0], crashes_count.shape[0])\n",
    "display(crashes_count.head())"
   ]
  },
  {
   "cell_type": "code",
   "execution_count": null,
   "id": "b7af9a26-adff-44d9-b0e8-ceba8d08f078",
   "metadata": {
    "tags": []
   },
   "outputs": [],
   "source": [
    "#create geodataframe\n",
    "crashes_gdf = gpd.GeoDataFrame(\n",
    "    crashes_count[[\n",
    "        'case_id', 'collision_date', 'year',\n",
    "        'injury', 'death', 'veh_ped', 'veh_bike', 'veh_veh'\n",
    "    ]],\n",
    "    geometry = gpd.points_from_xy(\n",
    "        x = crashes_count.loc_x,\n",
    "        y = crashes_count.loc_y,\n",
    "        crs = 'EPSG:4326')\n",
    ")"
   ]
  },
  {
   "cell_type": "code",
   "execution_count": null,
   "id": "18f15543-3003-4544-92be-455b407a7929",
   "metadata": {
    "tags": []
   },
   "outputs": [],
   "source": [
    "print(crashes[crashes.injury==1].shape[0])\n",
    "print(crashes[crashes.death==1].shape[0])"
   ]
  },
  {
   "cell_type": "code",
   "execution_count": null,
   "id": "0f2ea490-1ee1-49e5-906c-3d53360e1541",
   "metadata": {
    "tags": []
   },
   "outputs": [],
   "source": [
    "print(crashes_count[crashes_count.injury==1].shape[0])\n",
    "print(crashes_count[crashes_count.death==1].shape[0])"
   ]
  },
  {
   "cell_type": "code",
   "execution_count": null,
   "id": "b2feee2b-7fd7-4ed8-b34a-1ca9893c32b0",
   "metadata": {
    "tags": []
   },
   "outputs": [],
   "source": [
    "crashes_count[crashes_count.year==2022].shape[0]"
   ]
  },
  {
   "cell_type": "markdown",
   "id": "c4d671e6-f8d9-4640-9807-648d7491cfef",
   "metadata": {
    "tags": []
   },
   "source": [
    "## get mobility bikes data with dates of implementation"
   ]
  },
  {
   "cell_type": "markdown",
   "id": "71f84c05-1bb7-4c80-a1f2-cf0587109be6",
   "metadata": {},
   "source": [
    "We can't use previously generated data because the goal was to compare overlap of implemented vs planned against original planned paths, so it was more correct to connect actual data into one buffered shape. Here we need actual data because it has dates when the path was built, so it means we need vice-versa:\n",
    "1) merge planned data to a buffered shapes\n",
    "2) overlap it with actual data\n",
    "3) buffer the result again\n",
    "4) overlap with the crashes dataset"
   ]
  },
  {
   "cell_type": "markdown",
   "id": "4b3f049c-110b-445d-a4d7-97a6932a38ce",
   "metadata": {
    "tags": []
   },
   "source": [
    "### Protected/unprotected Bike lanes:"
   ]
  },
  {
   "cell_type": "code",
   "execution_count": null,
   "id": "ae5112d1-9811-4d80-85f5-482da61e4a84",
   "metadata": {
    "tags": []
   },
   "outputs": [],
   "source": [
    "bike_plan_file = open('../hsla_mobility_plan/Bicycle_Enhanced_Network.geojson')\n",
    "bike_plan_geo_raw = gpd.read_file(bike_plan_file)\n",
    "bike_actual_file = open('../hsla_mobility_plan/bike_actual.geojson')\n",
    "bike_actual_geo_raw = gpd.read_file(bike_actual_file)"
   ]
  },
  {
   "cell_type": "code",
   "execution_count": null,
   "id": "4408ff94-0061-4fb1-92f5-e57ff4c2e6ef",
   "metadata": {
    "tags": []
   },
   "outputs": [],
   "source": [
    "bike_plan_geo = bike_plan_geo_raw.copy()\n",
    "bike_actual_geo = bike_actual_geo_raw.copy()\n",
    "print(\n",
    "    'Mobility plan records:',\n",
    "    bike_plan_geo.shape[0],\n",
    "    '\\nActual bike lanes records:',\n",
    "    bike_actual_geo.shape[0],\n",
    "    '\\nActual lanes without construction date:',\n",
    "    bike_actual_geo[bike_actual_geo.Install_Da.isnull()].shape[0]\n",
    ")\n",
    "display(bike_plan_geo.head(1))\n",
    "display(bike_actual_geo.tail(1))"
   ]
  },
  {
   "cell_type": "code",
   "execution_count": null,
   "id": "b844ab72-688a-4461-b88b-078dda8b4d2b",
   "metadata": {
    "tags": []
   },
   "outputs": [],
   "source": [
    "bike_conditions = {\n",
    "    'protected bike lane': {'plan': [1], 'actual': [4]},\n",
    "    'unprotected bike lane': {'plan': [2, 3], 'actual': [2]}\n",
    "}\n",
    "results = []\n",
    "result_gdfs = []\n",
    "\n",
    "for key in bike_conditions.keys():\n",
    "    for year_calc in (None, year_mobility):\n",
    "        percentage, result_gdf = overlap_plan_actual(\n",
    "            name = key,\n",
    "            conditions = bike_conditions[key],\n",
    "            gdf_actual = bike_actual_geo[[\n",
    "                            'Class',\n",
    "                            'Year_',\n",
    "                            'Install_Da',\n",
    "                            'geometry'\n",
    "                        ]],\n",
    "            gdf_plan = bike_plan_geo[[\n",
    "                            'BICYCLE_N',\n",
    "                            'geometry'\n",
    "                       ]],\n",
    "            print_map = False,\n",
    "            test_map = False,\n",
    "            year = year_calc,\n",
    "            column_year = 'Year_'\n",
    "        )\n",
    "        results.append([key, year_calc, percentage])\n",
    "        result_gdfs.append([key, year_calc, result_gdf])\n",
    "\n",
    "        print(\n",
    "            percentage,\n",
    "            f'% of {key} implemented after {year_calc}',\n",
    "            '\\n'\n",
    "        )\n",
    "\n",
    "        print('_______')    "
   ]
  },
  {
   "cell_type": "markdown",
   "id": "1f9684b5-b869-42df-9805-cceda8cb8e0a",
   "metadata": {
    "tags": []
   },
   "source": [
    "### Bike Paths vs class 1"
   ]
  },
  {
   "cell_type": "code",
   "execution_count": null,
   "id": "c4a0eb87-5c86-45c9-aafb-91ebb4341a19",
   "metadata": {
    "tags": []
   },
   "outputs": [],
   "source": [
    "bike_plan_paths = open(\n",
    "    '../hsla_mobility_plan/Bicycle_Enhanced_Network_Paths.geojson'\n",
    ")\n",
    "bike_paths_geo_raw = gpd.read_file(bike_plan_paths)\n",
    "bike_path_geo = bike_paths_geo_raw.copy()\n",
    "print(bike_path_geo.shape[0])\n",
    "display(bike_path_geo.head())"
   ]
  },
  {
   "cell_type": "code",
   "execution_count": null,
   "id": "2e1c1041-6fee-4b08-a571-533865172806",
   "metadata": {
    "tags": []
   },
   "outputs": [],
   "source": [
    "bike_class1_conditions = {\n",
    "    'class1 bike lane': {'plan': None, 'actual': [1]},\n",
    "}\n",
    "\n",
    "for key in bike_class1_conditions.keys():\n",
    "    for year_calc in (None, year_mobility):\n",
    "        percentage, result_gdf = overlap_plan_actual(\n",
    "            name = key,\n",
    "            gdf_plan = bike_path_geo[['OBJECTID', 'geometry']],\n",
    "            gdf_actual = bike_actual_geo[[\n",
    "                                        'Class',\n",
    "                                        'Year_',\n",
    "                                        'Install_Da',\n",
    "                                        'geometry'\n",
    "                        ]],\n",
    "            conditions = {'plan': None, 'actual': [1]},\n",
    "            radius = 120, # take bigger radius beacuse of the data quality\n",
    "            print_map = False,\n",
    "            test_map = False,\n",
    "            year = year_calc,\n",
    "            column_year = 'Year_'\n",
    "                )\n",
    "        print(f'{percentage}% of bike path implemented after {year_calc}')\n",
    "        results.append([key, year_calc, percentage])\n",
    "        result_gdfs.append([key, year_calc, result_gdf])\n",
    "        print('_______')"
   ]
  },
  {
   "cell_type": "markdown",
   "id": "75116a13-3420-4b81-abdb-9573b785ab69",
   "metadata": {
    "jp-MarkdownHeadingCollapsed": true,
    "tags": []
   },
   "source": [
    "### NEN vs class 3"
   ]
  },
  {
   "cell_type": "code",
   "execution_count": null,
   "id": "9a9827f7-d809-4141-9419-353e4ae7f8f8",
   "metadata": {
    "tags": []
   },
   "outputs": [],
   "source": [
    "bike_nen_file = open(\n",
    "    '../hsla_mobility_plan/Neighborhood_Enhanced_Network.geojson'\n",
    ")\n",
    "bike_nen_geo_raw = gpd.read_file(bike_nen_file)\n",
    "bike_nen_geo = bike_nen_geo_raw[['OBJECTID', 'geometry']].copy()\n",
    "print(bike_nen_geo.shape[0])\n",
    "display(bike_nen_geo.head())"
   ]
  },
  {
   "cell_type": "code",
   "execution_count": null,
   "id": "98408a57-16cf-46c8-b4d8-34b9fd88386a",
   "metadata": {
    "tags": []
   },
   "outputs": [],
   "source": [
    "bike_nen_conditions = {\n",
    "    'NEN bike lane': {'plan': None, 'actual': [3]},\n",
    "}\n",
    "\n",
    "for key in bike_nen_conditions.keys():\n",
    "    for year_calc in (None, year_mobility):\n",
    "        percentage, result_gdf = overlap_plan_actual(\n",
    "            name = key,\n",
    "            conditions = bike_nen_conditions[key],\n",
    "            gdf_actual = bike_actual_geo[[\n",
    "                                        'Class',\n",
    "                                        'Year_',\n",
    "                                        'Install_Da',\n",
    "                                        'geometry'\n",
    "                        ]],\n",
    "            gdf_plan = bike_nen_geo,\n",
    "            print_map = False,\n",
    "            year = year_calc,\n",
    "            column_year = 'Year_',\n",
    "            test_map = False\n",
    "        )\n",
    "        results.append([key, year_calc, percentage])\n",
    "        result_gdfs.append([key, year_calc, result_gdf])\n",
    "\n",
    "        print(\n",
    "            percentage,\n",
    "            f'% of {key} implemented after {year_calc}',\n",
    "            '\\n'\n",
    "        )\n",
    "\n",
    "        print('_______')   "
   ]
  },
  {
   "cell_type": "markdown",
   "id": "a78cb0b4-0553-474f-b796-7973d64ade0c",
   "metadata": {
    "tags": []
   },
   "source": [
    "### all bike mobility implemented"
   ]
  },
  {
   "cell_type": "code",
   "execution_count": null,
   "id": "e8565c71-ea9b-4b04-8e74-10aa48c7a2fd",
   "metadata": {
    "tags": []
   },
   "outputs": [],
   "source": [
    "mobility_implemented_bike = gpd.GeoDataFrame()\n",
    "mobility_implemented_2015_bike = gpd.GeoDataFrame()\n",
    "for df in result_gdfs:\n",
    "    gdf = df[2].copy()\n",
    "    gdf['name'] = df[0].replace(' ', '_') + '_implemented'\n",
    "    yr = df[1]\n",
    "    print(f'{df[0]} after {df[1]}, {gdf.shape[0]} records')\n",
    "    display(gdf.head(1))\n",
    "    if yr:\n",
    "        gdf['name'] = gdf['name'] + f'_since_{yr}'\n",
    "        if mobility_implemented_2015_bike.shape[0]==0:\n",
    "            mobility_implemented_2015_bike = gdf[['name', 'Install_Da', 'geometry']].copy()\n",
    "        else:\n",
    "            mobility_implemented_2015_bike = pd.concat([\n",
    "                mobility_implemented_2015_bike,\n",
    "                gdf[['name', 'Install_Da', 'geometry']]]\n",
    "            )\n",
    "    else:\n",
    "        if mobility_implemented_bike.shape[0]==0:\n",
    "            mobility_implemented_bike = gdf[['name', 'Install_Da', 'geometry']].copy()\n",
    "        else:\n",
    "            mobility_implemented_bike = pd.concat([\n",
    "                mobility_implemented_bike,\n",
    "                gdf[['name', 'Install_Da', 'geometry']]]\n",
    "            )\n",
    "mobility_implemented_bike.reset_index(inplace=True, drop=True)\n",
    "mobility_implemented_bike.Install_Da = pd.to_datetime(\n",
    "    mobility_implemented_bike.Install_Da\n",
    ").dt.date\n",
    "display(mobility_implemented_bike.head(1))\n",
    "mobility_implemented_2015_bike.reset_index(inplace=True, drop=True)\n",
    "mobility_implemented_2015_bike.Install_Da = pd.to_datetime(\n",
    "    mobility_implemented_2015_bike.Install_Da\n",
    ").dt.date\n",
    "display(mobility_implemented_2015_bike.head(1))"
   ]
  },
  {
   "cell_type": "markdown",
   "id": "07fa41ca-63eb-4ed8-a6b5-2e8c448eb989",
   "metadata": {
    "tags": []
   },
   "source": [
    "## get mobility buses data with dates of implementation"
   ]
  },
  {
   "cell_type": "code",
   "execution_count": null,
   "id": "b4a7e7e5-c36e-447b-8fa6-17149c7b9d7d",
   "metadata": {
    "tags": []
   },
   "outputs": [],
   "source": [
    "bus_plan_file = open('../hsla_mobility_plan/Transit_Enhanced_Network.geojson')\n",
    "bus_plan_geo_raw = gpd.read_file(bus_plan_file)\n",
    "bus_actual_file = open('../hsla_mobility_plan/bus_only_lanes_sat.geojson')\n",
    "bus_actual_geo_raw = gpd.read_file(bus_actual_file)"
   ]
  },
  {
   "cell_type": "code",
   "execution_count": null,
   "id": "f5762c3b-32c6-4fb6-828b-87f1e4e70820",
   "metadata": {
    "tags": []
   },
   "outputs": [],
   "source": [
    "bus_plan_geo = bus_plan_geo_raw.copy()\n",
    "bus_actual_geo = bus_actual_geo_raw.copy()\n",
    "\n",
    "print(\n",
    "    'Mobility plan records:',\n",
    "    bus_plan_geo.shape[0],\n",
    "    '\\nActual bus lanes records:',\n",
    "    bus_actual_geo.shape[0]\n",
    ")\n",
    "display(bus_plan_geo.head(1))\n",
    "display(bus_actual_geo.tail(1))"
   ]
  },
  {
   "cell_type": "code",
   "execution_count": null,
   "id": "7901a454-cd99-4ed2-b750-68d06d6f25ee",
   "metadata": {
    "tags": []
   },
   "outputs": [],
   "source": [
    "bus_conditions = {\n",
    "    'bus lane': {'plan': [3, 2], 'actual': None},\n",
    "}\n",
    "bus_results = []\n",
    "bus_result_gdfs = []\n",
    "for key in bus_conditions.keys():\n",
    "    for year_calc in (None, year_mobility):\n",
    "        percentage, result_gdf = overlap_plan_actual(\n",
    "            name = key,\n",
    "            conditions = bus_conditions[key],\n",
    "            radius = 20,\n",
    "            gdf_actual = bus_actual_geo[[\n",
    "                            'Name',\n",
    "                            'geometry',\n",
    "                            'Year_'\n",
    "                        ]].copy(),\n",
    "            gdf_plan = bus_plan_geo,\n",
    "            print_map = False,\n",
    "            test_map = False,\n",
    "            year = year_calc,\n",
    "            column_year ='Year_' \n",
    "        )\n",
    "        bus_results.append([key, year_calc, percentage])\n",
    "        bus_result_gdfs.append([key, year_calc, result_gdf])"
   ]
  },
  {
   "cell_type": "code",
   "execution_count": null,
   "id": "a3ab8b2d-9cbd-48be-84c0-1b2d467dd3d3",
   "metadata": {
    "tags": []
   },
   "outputs": [],
   "source": [
    "mobility_implemented_bus = gpd.GeoDataFrame()\n",
    "mobility_implemented_2015_bus = gpd.GeoDataFrame()\n",
    "for df in bus_result_gdfs:\n",
    "    gdf = df[2].copy()\n",
    "    gdf['name'] = df[0].replace(' ', '_') + '_implemented'\n",
    "    print(f'{df[0]} after {df[1]}')\n",
    "    display(gdf.head(1))\n",
    "    if yr:\n",
    "        gdf['name'] = gdf['name'] + f'_since_{yr}'\n",
    "        if mobility_implemented_2015_bus.shape[0]==0:\n",
    "            mobility_implemented_2015_bus = gdf[['name', 'Year_', 'geometry']].copy()\n",
    "        else:\n",
    "            mobility_implemented_2015_bus = pd.concat([\n",
    "                mobility_implemented_2015_bus,\n",
    "                gdf[['name', 'Year_', 'geometry']]]\n",
    "            )\n",
    "    else:\n",
    "        if mobility_implemented_bus.shape[0]==0:\n",
    "            mobility_implemented_bus = gdf[['name', 'Year_', 'geometry']].copy()\n",
    "        else:\n",
    "            mobility_implemented_bus = pd.concat([\n",
    "                mobility_implemented_bus,\n",
    "                gdf[['name', 'Year_', 'geometry']]]\n",
    "            )\n",
    "mobility_implemented_bus.reset_index(inplace=True, drop=True)\n",
    "display(mobility_implemented_bus.head(1))\n",
    "mobility_implemented_2015_bus.reset_index(inplace=True, drop=True)\n",
    "display(mobility_implemented_2015_bus.head(1))"
   ]
  },
  {
   "cell_type": "markdown",
   "id": "eff180ce-73cb-4ea9-872b-00bb80252a22",
   "metadata": {
    "tags": []
   },
   "source": [
    "# get stats"
   ]
  },
  {
   "cell_type": "markdown",
   "id": "369928c4-6884-4e19-80bb-fecbd0f5d97b",
   "metadata": {
    "tags": []
   },
   "source": [
    "### bike lanes"
   ]
  },
  {
   "cell_type": "code",
   "execution_count": null,
   "id": "771f3b45-b20c-41fd-8453-2550c59dfb38",
   "metadata": {
    "tags": []
   },
   "outputs": [],
   "source": [
    "crashes_results = []\n",
    "crashes_result_gdfs = []\n",
    "\n",
    "for radius in [20]:#, 30, 40]:\n",
    "    impl_crashes = intersect_gdf_crashes(\n",
    "        name = 'implemented_crashes',\n",
    "        gdf = mobility_implemented_2015_bike,\n",
    "        crashes_gdf = crashes_gdf,\n",
    "        date_col = 'Install_Da',\n",
    "        radius = radius\n",
    "    )\n",
    "    impl_preventable = impl_crashes[\n",
    "          impl_crashes.collision_date<impl_crashes.install_date\n",
    "      ].copy().reset_index(drop=True)\n",
    "    num_preventable = impl_preventable.shape[0]\n",
    "    num_impl_crashes = impl_crashes.shape[0]\n",
    "    print(f'{num_preventable} preventable of {num_impl_crashes} crashes')\n",
    "    crashes_results.append(['bike', radius, num_impl_crashes, num_preventable])\n",
    "    crashes_result_gdfs.append(['bike', radius, impl_preventable])"
   ]
  },
  {
   "cell_type": "code",
   "execution_count": null,
   "id": "953c02c8-221b-49da-8188-9d227fb3a393",
   "metadata": {
    "tags": []
   },
   "outputs": [],
   "source": [
    "impl_preventable.head(2)"
   ]
  },
  {
   "cell_type": "code",
   "execution_count": null,
   "id": "f846ebc6-c55f-48de-9ea8-421e005dd478",
   "metadata": {
    "tags": []
   },
   "outputs": [],
   "source": [
    "impl_crashes[impl_crashes.year==2022].shape"
   ]
  },
  {
   "cell_type": "code",
   "execution_count": null,
   "id": "9ab678f4-9b73-4637-8a38-f21cd9ab5306",
   "metadata": {
    "tags": []
   },
   "outputs": [],
   "source": [
    "# impl_crashes = crashes_result_gdfs[2][2]\n",
    "# m = show_maps({\n",
    "#     'crashes': impl_crashes[['geometry']],\n",
    "#     'implemented': mobility_implemented_bike[['geometry']]\n",
    "# })\n",
    "# m"
   ]
  },
  {
   "cell_type": "markdown",
   "id": "c0330770-8acc-46ed-9cde-a7e04a741567",
   "metadata": {
    "tags": []
   },
   "source": [
    "### bus lanes"
   ]
  },
  {
   "cell_type": "code",
   "execution_count": null,
   "id": "1919e8c6-cc0b-4f95-a7fb-8d7bf8e361d1",
   "metadata": {
    "tags": []
   },
   "outputs": [],
   "source": [
    "for radius in [20]:#, 30, 40]:\n",
    "    impl_crashes = intersect_gdf_crashes(\n",
    "        name = 'implemented_crashes',\n",
    "        gdf = mobility_implemented_2015_bus,\n",
    "        crashes_gdf = crashes_gdf,\n",
    "        date_col = 'Year_',\n",
    "        radius = radius\n",
    "    )\n",
    "    impl_preventable = impl_crashes[\n",
    "          impl_crashes.year<impl_crashes.install_date\n",
    "      ].copy().reset_index(drop=True)\n",
    "    num_preventable = impl_preventable.shape[0]\n",
    "    num_impl_crashes = impl_crashes.shape[0]\n",
    "    print(f'{num_preventable} preventable of {num_impl_crashes} crashes')\n",
    "    crashes_results.append(['bus', radius, num_impl_crashes, num_preventable])\n",
    "    crashes_result_gdfs.append(['bus', radius, impl_preventable])"
   ]
  },
  {
   "cell_type": "code",
   "execution_count": null,
   "id": "8590dc95-1a6d-4de6-9b9d-cca16d337b48",
   "metadata": {
    "tags": []
   },
   "outputs": [],
   "source": [
    "impl_crashes[impl_crashes.year==2022].shape"
   ]
  },
  {
   "cell_type": "code",
   "execution_count": null,
   "id": "e9bc511d-afdd-4c6d-bee6-062be4df644f",
   "metadata": {
    "tags": []
   },
   "outputs": [],
   "source": [
    "impl_crashes.head()"
   ]
  },
  {
   "cell_type": "code",
   "execution_count": null,
   "id": "34b59bf3-3e60-461e-b001-bba06c06906a",
   "metadata": {
    "tags": []
   },
   "outputs": [],
   "source": [
    "impl_crashes[impl_crashes.year==2022].shape"
   ]
  },
  {
   "cell_type": "code",
   "execution_count": null,
   "id": "59e87f26-72c9-4165-84cb-d5cec213f70c",
   "metadata": {
    "tags": []
   },
   "outputs": [],
   "source": [
    "crashes_results"
   ]
  },
  {
   "cell_type": "markdown",
   "id": "9d3eefb7-b6cd-4c82-ba9f-acb5d33ce386",
   "metadata": {
    "tags": []
   },
   "source": [
    "## save results"
   ]
  },
  {
   "cell_type": "code",
   "execution_count": null,
   "id": "25c4506e-3ba9-41fb-8893-ce9deda9ace0",
   "metadata": {
    "tags": []
   },
   "outputs": [],
   "source": [
    "crashes_results_df = pd.DataFrame(\n",
    "    columns=[\n",
    "        'transport type',\n",
    "        'radus_m',\n",
    "        'crashes_mobility',\n",
    "        'preventable_crashes'\n",
    "    ],\n",
    "    data = crashes_results\n",
    ")\n",
    "display(crashes_results_df)"
   ]
  },
  {
   "cell_type": "code",
   "execution_count": null,
   "id": "e308acf6-5645-4155-a5e7-08335d1c73ac",
   "metadata": {
    "tags": []
   },
   "outputs": [],
   "source": [
    "# crashes_results_df.to_csv(f'preventable_crashes_{today}.csv', index=False)\n",
    "# \n",
    "# for df in crashes_result_gdfs:\n",
    "#     gdf = df[2].copy()\n",
    "#     gdf.collision_date = pd.to_datetime(gdf.collision_date).dt.strftime('%Y/%m/%d')\n",
    "#     gdf.install_date = pd.to_datetime(gdf.install_date).dt.strftime('%Y/%m/%d')\n",
    "#     gdf.to_file(\n",
    "#         f'preventable_crashes_{df[0]}_lanes_buffer{df[1]}m_{today}.geojson',\n",
    "#         driver='GeoJSON'\n",
    "#     )"
   ]
  },
  {
   "cell_type": "markdown",
   "id": "3fd61f81-ab7f-44fc-8bfb-6480344e36e1",
   "metadata": {},
   "source": [
    "# troubleshoot"
   ]
  },
  {
   "cell_type": "code",
   "execution_count": null,
   "id": "a220188c-2349-4b36-a0b5-0b8827cbbb2a",
   "metadata": {
    "tags": []
   },
   "outputs": [],
   "source": [
    "impl_crashes_2022 = open('impl_crashes_2022.geojson')\n",
    "impl_crashes_2022_tims = gpd.read_file(impl_crashes_2022)\n",
    "display(impl_crashes_2022_tims.head())\n",
    "\n",
    "preventable_crashes_2022_lapd = crashes_result_gdfs[0][2]\n",
    "preventable_crashes_2022_lapd = preventable_crashes_2022_lapd[\n",
    "        preventable_crashes_2022_lapd.year==2022\n",
    "    ].copy().reset_index(drop=True)\n",
    "display(preventable_crashes_2022_lapd.head())"
   ]
  },
  {
   "cell_type": "code",
   "execution_count": null,
   "id": "e18776a0-359a-4c5f-9b78-1b384f955d9d",
   "metadata": {
    "tags": []
   },
   "outputs": [],
   "source": [
    "mobility_implemented_bike.head()"
   ]
  },
  {
   "cell_type": "code",
   "execution_count": null,
   "id": "b68fda51-e128-4837-b0b5-4a8f784aeb2a",
   "metadata": {
    "tags": []
   },
   "outputs": [],
   "source": [
    "m = show_maps({\n",
    "    'lapd': preventable_crashes_2022_lapd[['geometry']],\n",
    "    'tims': impl_crashes_2022_tims[['geometry']],\n",
    "    'implemented bike': mobility_implemented_bike[['geometry']],\n",
    "    'implemented bus': mobility_implemented_bus[['geometry']]\n",
    "})\n",
    "m"
   ]
  },
  {
   "cell_type": "code",
   "execution_count": null,
   "id": "03b92fa8-f38d-45bd-880d-0307def7ea2f",
   "metadata": {
    "tags": []
   },
   "outputs": [],
   "source": [
    "m_implemented_tims_file = open('../mobility_implemented.geojson')\n",
    "m_implemented_tims = gpd.read_file(m_implemented_tims_file)\n",
    "display(m_implemented_tims.head())"
   ]
  },
  {
   "cell_type": "code",
   "execution_count": null,
   "id": "079849c1-694b-47c7-b358-408b81673889",
   "metadata": {
    "tags": []
   },
   "outputs": [],
   "source": [
    "m = show_maps({\n",
    "    'tims': m_implemented_tims[['geometry']],\n",
    "    'implemented bike': mobility_implemented_bike[['geometry']],\n",
    "    'implemented bus': mobility_implemented_bus[['geometry']]\n",
    "})\n",
    "m"
   ]
  },
  {
   "cell_type": "code",
   "execution_count": null,
   "id": "726a7a8d-cca1-40c4-9dd1-553198a4f74a",
   "metadata": {},
   "outputs": [],
   "source": []
  },
  {
   "cell_type": "code",
   "execution_count": null,
   "id": "d4fb0f07-a472-41e8-80e9-34c755d52354",
   "metadata": {},
   "outputs": [],
   "source": []
  }
 ],
 "metadata": {
  "kernelspec": {
   "display_name": "Python 3 (ipykernel)",
   "language": "python",
   "name": "python3"
  },
  "language_info": {
   "codemirror_mode": {
    "name": "ipython",
    "version": 3
   },
   "file_extension": ".py",
   "mimetype": "text/x-python",
   "name": "python",
   "nbconvert_exporter": "python",
   "pygments_lexer": "ipython3",
   "version": "3.11.5"
  }
 },
 "nbformat": 4,
 "nbformat_minor": 5
}

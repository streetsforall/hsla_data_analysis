{
 "cells": [
  {
   "cell_type": "markdown",
   "id": "3de49ab1-1aac-4756-9d90-9ae5c75a07de",
   "metadata": {
    "tags": []
   },
   "source": [
    "# Healthy Streets of Los Angeles Injuries/Deaths by streets and intersections data project\n",
    "This project defines streets and streets intersections of Los Angeles with most amount of car accidents resulted in deaths/injuries.\n",
    "\n",
    "Sources:\n",
    "* Injuries/Deaths in the City of LA https://tims.berkeley.edu/\n",
    "\n",
    "Assumptions:\n",
    "* Location only City of Los Angeles\n",
    "* Available data is from 2012-2022, note that according to the source data for 2021-2022 is provisional and subject to change\n",
    "* Excluding freeways (STATE_ROUTE is Null)\n",
    "* Matching Primary street and Secondary streets if at intersection\n",
    "* Intersection includes a street if the distance for accident is less then 10 feet for this street\n",
    "\n",
    "Output:\n",
    "* Top 500 streets by injuries/deaths with consolidated streets for last 5/10yrs/all time\n",
    "* Top 100 intersections by injuries/deaths for last 5/10yrs</br>\n",
    "\"last_n years\" mean including previous year, but not current one\n",
    "\n",
    "\n",
    "Any questions - elena.sunchugasheva@gmail.com"
   ]
  },
  {
   "cell_type": "code",
   "execution_count": null,
   "id": "13408a8b-82a3-4c51-b406-5da4d73946e9",
   "metadata": {
    "tags": []
   },
   "outputs": [],
   "source": [
    "# define top amount\n",
    "top_n_streets = 500\n",
    "top_n_x = 100"
   ]
  },
  {
   "cell_type": "code",
   "execution_count": null,
   "id": "5d16af44-d52b-4dff-928e-81bdfdd25809",
   "metadata": {
    "tags": []
   },
   "outputs": [],
   "source": [
    "import pandas as pd\n",
    "import datetime\n",
    "\n",
    "pd.set_option('display.max_rows', 10000)\n",
    "pd.set_option('display.max_columns', 1000)"
   ]
  },
  {
   "cell_type": "markdown",
   "id": "dade07f0-dc57-42c5-a054-8b8dc4bd7a9c",
   "metadata": {
    "tags": []
   },
   "source": [
    "# data"
   ]
  },
  {
   "cell_type": "code",
   "execution_count": null,
   "id": "c4ac4fce-63c6-43d6-a45e-f71d9497f7e4",
   "metadata": {
    "tags": []
   },
   "outputs": [],
   "source": [
    "today = datetime.datetime.now()\n",
    "print(today)"
   ]
  },
  {
   "cell_type": "markdown",
   "id": "41e9eb3b-826d-4cab-a879-d12b43719e4a",
   "metadata": {
    "jp-MarkdownHeadingCollapsed": true,
    "tags": []
   },
   "source": [
    "### Data preparation"
   ]
  },
  {
   "cell_type": "code",
   "execution_count": null,
   "id": "db5e8df1-78db-49fa-8815-2df436006afb",
   "metadata": {
    "tags": []
   },
   "outputs": [],
   "source": [
    "crashes_raw = pd.read_csv('Crashes.csv')\n",
    "display(crashes_raw.head(1))"
   ]
  },
  {
   "cell_type": "code",
   "execution_count": null,
   "id": "c4a0eb25-f5c6-4bce-881d-83f23a4b5ba5",
   "metadata": {
    "tags": []
   },
   "outputs": [],
   "source": [
    "# columns we are interested in\n",
    "crashes_col = [\n",
    "    'CASE_ID', 'COUNTY', 'CITY',\n",
    "    'ACCIDENT_YEAR', 'COLLISION_DATE',\n",
    "    'PRIMARY_RD', 'SECONDARY_RD', 'POINT_X', 'POINT_Y',\n",
    "    'INTERSECTION', 'DISTANCE', \n",
    "    'COLLISION_SEVERITY', 'NUMBER_KILLED', 'NUMBER_INJURED', 'PARTY_COUNT',\n",
    "    'PED_ACTION', 'PEDESTRIAN_ACCIDENT', 'BICYCLE_ACCIDENT',\n",
    "    'COUNT_SEVERE_INJ', 'COUNT_VISIBLE_INJ',\n",
    "    'COUNT_PED_KILLED', 'COUNT_PED_INJURED',\n",
    "    'COUNT_BICYCLIST_KILLED', 'COUNT_BICYCLIST_INJURED'\n",
    "]"
   ]
  },
  {
   "cell_type": "code",
   "execution_count": null,
   "id": "af0f3840-648a-47cf-912c-8b637ed9ee86",
   "metadata": {
    "tags": []
   },
   "outputs": [],
   "source": [
    "# take only City of LA and not highways\n",
    "crashes = crashes_raw[\n",
    "        (crashes_raw.CITY=='LOS ANGELES')&\n",
    "        (crashes_raw.STATE_ROUTE.isnull())\n",
    "    ][crashes_col].copy()\n",
    "display(crashes.head(1))"
   ]
  },
  {
   "cell_type": "markdown",
   "id": "bd843249-4c65-4052-92f3-b34aec2b6017",
   "metadata": {},
   "source": [
    "take a look at stats/outliers"
   ]
  },
  {
   "cell_type": "code",
   "execution_count": null,
   "id": "f015f5ad-7efd-42c2-bb4c-d5b878f10ab5",
   "metadata": {},
   "outputs": [],
   "source": [
    "print(\n",
    "    'intersections:', crashes[crashes.INTERSECTION=='Y'].shape[0],\n",
    "    ', non-intersections:', crashes[crashes.INTERSECTION=='N'].shape[0],\n",
    "    ', total:', crashes.shape[0]\n",
    ")"
   ]
  },
  {
   "cell_type": "code",
   "execution_count": null,
   "id": "2512e47b-ef2b-4be9-94a5-7d55617cb62c",
   "metadata": {
    "tags": []
   },
   "outputs": [],
   "source": [
    "crashes[[\n",
    "    'NUMBER_KILLED', 'NUMBER_INJURED',\n",
    "    'COUNT_PED_KILLED', 'COUNT_PED_INJURED',\n",
    "    'COUNT_BICYCLIST_KILLED', 'COUNT_BICYCLIST_INJURED'\n",
    "]].describe()"
   ]
  },
  {
   "cell_type": "code",
   "execution_count": null,
   "id": "9fe4e839-3b7a-4ad3-ab12-e82af47422da",
   "metadata": {
    "tags": []
   },
   "outputs": [],
   "source": [
    "crashes[crashes.NUMBER_INJURED>=20]"
   ]
  },
  {
   "cell_type": "markdown",
   "id": "4d1f58cf-b92d-4da3-acbb-ce9ec72ce358",
   "metadata": {
    "tags": []
   },
   "source": [
    "# stats"
   ]
  },
  {
   "cell_type": "markdown",
   "id": "db4e342b-09e3-46d5-9b02-a2bd5080d2a4",
   "metadata": {
    "jp-MarkdownHeadingCollapsed": true,
    "tags": []
   },
   "source": [
    "## functions"
   ]
  },
  {
   "cell_type": "code",
   "execution_count": null,
   "id": "b5d798d8-07d8-430f-99ff-bd5812719c8b",
   "metadata": {},
   "outputs": [],
   "source": [
    "def join_streets(col1, col2):\n",
    "    return '/'.join(sorted([str(col1), str(col2)]))"
   ]
  },
  {
   "cell_type": "code",
   "execution_count": null,
   "id": "2dcbed37-3c4e-475d-990b-7e0f9cfa96d0",
   "metadata": {
    "tags": []
   },
   "outputs": [],
   "source": [
    "def summarize(df, summ_column, time_period=None, today=today):\n",
    "    '''\n",
    "    df - DataFrame with the stucture of crashes_street\n",
    "    summ_column - summarize on column (excluding 'county', 'city')\n",
    "    time_period = ('last5', 'last10') - time filter\n",
    "    '''\n",
    "    if time_period:   \n",
    "        df = df[\n",
    "            df.ACCIDENT_YEAR.isin(\n",
    "                range(\n",
    "                    today.year-int(time_period[4:]),\n",
    "                    today.year\n",
    "                )\n",
    "            )\n",
    "        ]\n",
    "    \n",
    "    df_return = df\\\n",
    "        .sort_values(by=['COUNTY', 'CITY', summ_column])\\\n",
    "        .groupby(by=['COUNTY', 'CITY', summ_column]).sum()\\\n",
    "        .reset_index(drop=False)\\\n",
    "        .drop(columns='ACCIDENT_YEAR')\n",
    "    \n",
    "    df_return.columns = [\n",
    "        'COUNTY', 'CITY', summ_column\n",
    "        ] + list(df_return.columns[3:] + '_' + time_period)\n",
    "\n",
    "    return df_return"
   ]
  },
  {
   "cell_type": "code",
   "execution_count": null,
   "id": "389e8c3a-5cef-4ccb-8a82-74bab4c38689",
   "metadata": {
    "tags": []
   },
   "outputs": [],
   "source": [
    "def get_top_n(df, top_n, summ_column, time_period, outcome):\n",
    "    '''\n",
    "    df - DataFrame with the stucture of crashes_street\n",
    "    summ_column - summarize on column\n",
    "    time_period = ('last5', 'last10') - time filter\n",
    "    outcome = ('killed', 'injured') - outcome of the crash\n",
    "    '''\n",
    "    df_cols = list(df.columns[df.columns.str.contains(time_period)])\n",
    "    sort_cols = [col for col in df_cols if 'number' in col.lower()]\n",
    "    first = [col for col in sort_cols if outcome in col.lower()][0]\n",
    "    sort_cols.remove(first)\n",
    "    second = sort_cols[0]\n",
    "    if len(sort_cols)!=1:\n",
    "        second = sorted(second)[0]\n",
    "\n",
    "    df_top = df[[summ_column] + df_cols].copy()\\\n",
    "        .sort_values(\n",
    "            by=[first, second],\n",
    "            ascending=False\n",
    "        ).head(top_n)\n",
    "    \n",
    "    return df_top"
   ]
  },
  {
   "cell_type": "markdown",
   "id": "2627fc8d-cec6-4a52-abf8-d7eed3b85316",
   "metadata": {
    "tags": []
   },
   "source": [
    "## top streets"
   ]
  },
  {
   "cell_type": "markdown",
   "id": "2d69e5ef-0b3c-4bab-90d5-c6a7afe1e797",
   "metadata": {
    "jp-MarkdownHeadingCollapsed": true,
    "tags": []
   },
   "source": [
    "### prepare dataset"
   ]
  },
  {
   "cell_type": "code",
   "execution_count": null,
   "id": "47e4f3dd-75f9-429c-ba33-c7948a675093",
   "metadata": {},
   "outputs": [],
   "source": [
    "# if the crash happened at intesection - count secondary street as well\n",
    "crashes_secondary = crashes[\n",
    "        crashes.INTERSECTION=='Y'\n",
    "    ].copy().reset_index(drop=True)\n",
    "crashes_secondary.PRIMARY_RD = crashes_secondary.SECONDARY_RD\n",
    "crashes_primary_secondary = pd.concat([crashes, crashes_secondary])\n",
    "display(crashes_secondary.tail(3))\n",
    "display(crashes_primary_secondary.tail(3))"
   ]
  },
  {
   "cell_type": "code",
   "execution_count": null,
   "id": "43385c89-05bd-4ef3-b2f6-95830f3650c3",
   "metadata": {},
   "outputs": [],
   "source": [
    "# check duplicates\n",
    "print(crashes_primary_secondary.shape[0])\n",
    "crashes_primary_secondary.drop_duplicates(inplace=True)\n",
    "print(crashes_primary_secondary.shape[0])"
   ]
  },
  {
   "cell_type": "markdown",
   "id": "7b08c1ff-90df-4d52-b81e-5a7632e15ebc",
   "metadata": {},
   "source": [
    "### get stats"
   ]
  },
  {
   "cell_type": "code",
   "execution_count": null,
   "id": "0fb54dfa-3768-4fe3-8306-9467cefd8abf",
   "metadata": {},
   "outputs": [],
   "source": [
    "# get main dataset for stats\n",
    "crashes_street = crashes[[\n",
    "    'COUNTY', 'CITY', 'ACCIDENT_YEAR', 'PRIMARY_RD',\n",
    "    'NUMBER_KILLED', 'NUMBER_INJURED', 'COUNT_PED_KILLED', 'COUNT_PED_INJURED',\n",
    "    'COUNT_BICYCLIST_KILLED', 'COUNT_BICYCLIST_INJURED'\n",
    "]].groupby(by=['COUNTY', 'CITY', 'ACCIDENT_YEAR', 'PRIMARY_RD']).sum()\\\n",
    ".reset_index(drop=False)\n",
    "display(crashes_street.head(2))"
   ]
  },
  {
   "cell_type": "code",
   "execution_count": null,
   "id": "7ba4b144-5d00-4d86-b11b-0d4911e40858",
   "metadata": {
    "tags": []
   },
   "outputs": [],
   "source": [
    "# get the list of all streets and fill it in\n",
    "crashes_street_stat = crashes_primary_secondary[[\n",
    "    'COUNTY', 'CITY', 'PRIMARY_RD'\n",
    "]].copy().drop_duplicates()\n",
    "\n",
    "intervals = ['last5', 'last10']\n",
    "\n",
    "for interval in intervals:\n",
    "    df_summary = summarize(\n",
    "        df = crashes_street,\n",
    "        summ_column = 'PRIMARY_RD',\n",
    "        time_period = interval\n",
    "    )\n",
    "    crashes_street_stat = crashes_street_stat.merge(\n",
    "        df_summary,\n",
    "        how='left',\n",
    "        on=['COUNTY', 'CITY', 'PRIMARY_RD']\n",
    "    )\n",
    "    \n",
    "display(crashes_street_stat.head(2))"
   ]
  },
  {
   "cell_type": "code",
   "execution_count": null,
   "id": "3c270849-20f4-4a85-a408-15ff01686338",
   "metadata": {
    "tags": []
   },
   "outputs": [],
   "source": [
    "# find top = top_n_streets streets on killed/injures and make one list\n",
    "top_streets = set()\n",
    "outcome = ['killed', 'injured']\n",
    "\n",
    "for interval in intervals:\n",
    "    for out in outcome:\n",
    "        print(interval, 'years,', out)\n",
    "        top_n = get_top_n(\n",
    "            df = crashes_street_stat,\n",
    "            top_n = top_n_streets,\n",
    "            summ_column = 'PRIMARY_RD',\n",
    "            time_period = interval,\n",
    "            outcome = out\n",
    "        )\n",
    "        top_streets.update(top_n.PRIMARY_RD.unique())\n",
    "    \n",
    "top_streets_df = crashes_street_stat[\n",
    "    crashes_street_stat.PRIMARY_RD.isin(list(top_streets))\n",
    "    ].reset_index(drop=True)"
   ]
  },
  {
   "cell_type": "code",
   "execution_count": null,
   "id": "2dcd813b-9633-43db-9f58-ebc54f856cde",
   "metadata": {
    "tags": []
   },
   "outputs": [],
   "source": [
    "top_streets_df.to_csv(f'top{top_n_streets}_streets_combined_{today.strftime(\"%Y_%m_%d\")}.csv', index=False)"
   ]
  },
  {
   "cell_type": "markdown",
   "id": "62113303-60ec-4306-b073-e55af8f22f3f",
   "metadata": {
    "tags": []
   },
   "source": [
    "## top intersections"
   ]
  },
  {
   "cell_type": "markdown",
   "id": "38679cf3-a2d9-4f7c-87e6-1c8188b65a26",
   "metadata": {
    "jp-MarkdownHeadingCollapsed": true,
    "tags": []
   },
   "source": [
    "### create intersection column"
   ]
  },
  {
   "cell_type": "code",
   "execution_count": null,
   "id": "8587facd-e8ad-4604-9281-978cd23255e4",
   "metadata": {
    "tags": []
   },
   "outputs": [],
   "source": [
    "# these are probably outliers, may be look into it later\n",
    "crashes[\n",
    "    (crashes.INTERSECTION=='Y')&(crashes.DISTANCE > 15)\n",
    "].sort_values(\n",
    "    by='DISTANCE',\n",
    "    ascending=False\n",
    ").shape"
   ]
  },
  {
   "cell_type": "code",
   "execution_count": null,
   "id": "7cc46df7-d834-4efc-9a91-08cd2e5b7029",
   "metadata": {
    "tags": []
   },
   "outputs": [],
   "source": [
    "# lets take all crashes within 15 ft distance from intersections\n",
    "crashes_intersection = crashes[\n",
    "        crashes.DISTANCE<=15\n",
    "    ].copy().reset_index(drop=True)\n",
    "\n",
    "# get an intersection combined name\n",
    "crashes_intersection['cross_name'] = crashes_intersection.apply(\n",
    "    lambda row: join_streets(\n",
    "        row['PRIMARY_RD'], row['SECONDARY_RD']\n",
    "    ), axis=1\n",
    ")\n",
    "display(crashes_intersection.head(2))"
   ]
  },
  {
   "cell_type": "code",
   "execution_count": null,
   "id": "ddc2be5b-e97e-4052-8097-9ed7e51c8624",
   "metadata": {
    "tags": []
   },
   "outputs": [],
   "source": [
    "# get average coordinates for intersections from accidents on the intersection=Y\n",
    "# so we can count it as coordinates for intersection\n",
    "intersection_coords_list = []\n",
    "\n",
    "for inters in crashes_intersection.cross_name.unique():\n",
    "    cross_locations = crashes_intersection[\n",
    "            (crashes_intersection.cross_name==inters)&\n",
    "            (crashes_intersection.INTERSECTION=='Y')\n",
    "        ]\n",
    "    intersection_coords_list.append({\n",
    "        'cross_name':inters,\n",
    "        'cross_x':cross_locations.POINT_X.mean(),\n",
    "        'cross_y':cross_locations.POINT_Y.mean()\n",
    "    })"
   ]
  },
  {
   "cell_type": "code",
   "execution_count": null,
   "id": "485cc710-9d36-44b5-b2cd-445e696a3642",
   "metadata": {
    "tags": []
   },
   "outputs": [],
   "source": [
    "intersection_coords = pd.DataFrame(intersection_coords_list)\n",
    "display(intersection_coords.head(2))\n",
    "\n",
    "crashes_intersections = crashes_intersection.merge(intersection_coords, on='cross_name')\n",
    "display(crashes_intersections.head(2))"
   ]
  },
  {
   "cell_type": "code",
   "execution_count": null,
   "id": "6b103a32-80a4-4e71-b780-30231818b96a",
   "metadata": {
    "tags": []
   },
   "outputs": [],
   "source": [
    "# check intersections with locations far from the averaged value\n",
    "# they still look not too far\n",
    "crashes_intersections.loc[\n",
    "    (crashes_intersections.INTERSECTION=='Y')&\n",
    "    ((crashes_intersections.POINT_X-crashes_intersections.cross_x>0.1)|\n",
    "     (crashes_intersections.POINT_Y-crashes_intersections.cross_y>0.1)),\n",
    "    ['cross_name', 'cross_x', 'cross_y', 'POINT_X', 'POINT_Y']\n",
    "]"
   ]
  },
  {
   "cell_type": "markdown",
   "id": "88cdf7f6-3dc6-4285-aabf-9ea408f8e1f8",
   "metadata": {},
   "source": [
    "### get stats"
   ]
  },
  {
   "cell_type": "code",
   "execution_count": null,
   "id": "3e5e2e66-5c10-47bf-a49e-1d52731c7925",
   "metadata": {
    "tags": []
   },
   "outputs": [],
   "source": [
    "# get a base for the final table\n",
    "crashes_cross_stat = crashes_intersections[[\n",
    "    'COUNTY', 'CITY', 'cross_name', 'cross_x', 'cross_y'\n",
    "]].copy().drop_duplicates()\n",
    "display(crashes_cross_stat.head())\n",
    "\n",
    "# get separate streets\n",
    "crashes_cross_stat['street1'] = ''\n",
    "crashes_cross_stat['street2'] = ''\n",
    "\n",
    "crashes_cross_stat.street1 = crashes_cross_stat.cross_name.str.split('/').str[0]\n",
    "crashes_cross_stat.street2 = crashes_cross_stat.cross_name.str.split('/').str[1]"
   ]
  },
  {
   "cell_type": "code",
   "execution_count": null,
   "id": "56fd170c-2e4f-49d1-9a96-200646788660",
   "metadata": {
    "tags": []
   },
   "outputs": [],
   "source": [
    "# get a list of crashes for statistics\n",
    "crashes_cross = crashes_intersections[[\n",
    "    'COUNTY', 'CITY', 'ACCIDENT_YEAR', 'cross_name',\n",
    "    'NUMBER_KILLED', 'NUMBER_INJURED', 'COUNT_PED_KILLED', 'COUNT_PED_INJURED',\n",
    "    'COUNT_BICYCLIST_KILLED', 'COUNT_BICYCLIST_INJURED'\n",
    "]].groupby(by=['COUNTY', 'CITY', 'ACCIDENT_YEAR', 'cross_name']).sum()\\\n",
    ".reset_index(drop=False)\n",
    "\n",
    "intervals = ['last5', 'last10']\n",
    "for interval in intervals:\n",
    "    df_summary = summarize(\n",
    "        df = crashes_cross,\n",
    "        summ_column = 'cross_name',\n",
    "        time_period = interval\n",
    "    )\n",
    "    crashes_cross_stat = crashes_cross_stat.merge(\n",
    "        df_summary,\n",
    "        how='left',\n",
    "        on=['COUNTY', 'CITY', 'cross_name']\n",
    "    )\n",
    "    \n",
    "display(crashes_cross_stat.head(2))"
   ]
  },
  {
   "cell_type": "code",
   "execution_count": null,
   "id": "671c8f65-40b7-4be2-9921-abd8a4f14d9c",
   "metadata": {
    "tags": []
   },
   "outputs": [],
   "source": [
    "# find top = top_n_streets streets on killed/injures and make one list\n",
    "top_intersections = set()\n",
    "outcome = ['killed', 'injured']\n",
    "\n",
    "for interval in intervals:\n",
    "    for out in outcome:\n",
    "        print(interval, 'years,', out)\n",
    "        top_n = get_top_n(\n",
    "            df = crashes_cross_stat,\n",
    "            top_n = top_n_x,\n",
    "            summ_column = 'cross_name',\n",
    "            time_period = interval,\n",
    "            outcome = out\n",
    "        )\n",
    "        top_intersections.update(top_n.cross_name.unique())\n",
    "    \n",
    "top_intersections_df = crashes_cross_stat[\n",
    "        crashes_cross_stat.cross_name.isin(list(top_intersections))\n",
    "    ].reset_index(\n",
    "        drop=True\n",
    "    ).sort_values(\n",
    "        by=['NUMBER_KILLED_last5', 'NUMBER_INJURED_last5'],\n",
    "        ascending=False\n",
    "    )"
   ]
  },
  {
   "cell_type": "code",
   "execution_count": null,
   "id": "ed5e52db-bb3e-42a7-8de3-7b494f60c54e",
   "metadata": {
    "tags": []
   },
   "outputs": [],
   "source": [
    "top_intersections_df.to_csv(f'top{top_n_x}_intersections_combined_{today.strftime(\"%Y_%m_%d\")}.csv', index=False)"
   ]
  },
  {
   "cell_type": "markdown",
   "id": "d48a8acc-800f-4c74-aea7-fc822c2b4587",
   "metadata": {
    "tags": []
   },
   "source": [
    "### more checks"
   ]
  },
  {
   "cell_type": "code",
   "execution_count": null,
   "id": "2e5e26b5-1642-4b3a-97d1-0b83a95f8dca",
   "metadata": {
    "tags": []
   },
   "outputs": [],
   "source": [
    "# some checks\n",
    "display(top_intersections_df[top_intersections_df.cross_x==0])\n",
    "display(top_intersections_df[top_intersections_df.street1.isnull()])"
   ]
  },
  {
   "cell_type": "code",
   "execution_count": null,
   "id": "94c5dc6f-adce-48f2-bd91-79553fa9fb63",
   "metadata": {
    "tags": []
   },
   "outputs": [],
   "source": [
    "print(\n",
    "    crashes_intersections[\n",
    "        crashes_intersections.cross_x==0\n",
    "    ].cross_name.nunique(),\n",
    "    crashes_intersections[\n",
    "        crashes_intersections.cross_x.isnull()\n",
    "    ].cross_name.nunique(),\n",
    ")"
   ]
  },
  {
   "cell_type": "code",
   "execution_count": null,
   "id": "ab980dad-10cd-403d-9e82-9a1d64fb10b6",
   "metadata": {
    "tags": []
   },
   "outputs": [],
   "source": [
    "print(\n",
    "    crashes_intersections[crashes_intersections.cross_x!=0].shape,\n",
    "    crashes_intersections[crashes_intersections.cross_x==0].shape,\n",
    "    crashes_intersections[crashes_intersections.cross_x.isnull()].shape,\n",
    ")"
   ]
  },
  {
   "cell_type": "code",
   "execution_count": null,
   "id": "afe90108-d01e-42a6-8c39-ddedb7f8fb74",
   "metadata": {
    "tags": []
   },
   "outputs": [],
   "source": [
    "top_intersections_df[top_intersections_df.cross_x.isnull()]"
   ]
  },
  {
   "cell_type": "code",
   "execution_count": null,
   "id": "d4cb8a28-1828-4c2b-9ae7-12297f30729c",
   "metadata": {
    "tags": []
   },
   "outputs": [],
   "source": [
    "top_intersections_df[top_intersections_df.cross_name=='HASKELL AV/VINTAGE ST']"
   ]
  }
 ],
 "metadata": {
  "kernelspec": {
   "display_name": "Python 3 (ipykernel)",
   "language": "python",
   "name": "python3"
  },
  "language_info": {
   "codemirror_mode": {
    "name": "ipython",
    "version": 3
   },
   "file_extension": ".py",
   "mimetype": "text/x-python",
   "name": "python",
   "nbconvert_exporter": "python",
   "pygments_lexer": "ipython3",
   "version": "3.11.5"
  }
 },
 "nbformat": 4,
 "nbformat_minor": 5
}

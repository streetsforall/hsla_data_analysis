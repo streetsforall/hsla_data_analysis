{
 "cells": [
  {
   "cell_type": "markdown",
   "id": "a98b1b32-998a-4dd6-b760-b06adbb34db5",
   "metadata": {},
   "source": [
    "# Healthy Streets of Los Angeles Mobility plan analysis\n",
    "\n",
    "This project finds out how well LA Mobility Plan 2035 was implemented to this day (November 2023) for protected and unprotected bike lanes and protected bus lanes. Also it finds the same data for Neighborhood Enhanced Network bike lanes.\n",
    "\n",
    "Sources:\n",
    "* Current Bike Lanes: https://geohub.lacity.org/datasets/ladot::city-of-los-angeles-bikeways-1/explore\n",
    "* Mobility Plan bike lanes: https://geohub.lacity.org/datasets/bicycle-enhanced-network/explore?location=34.020251%2C-118.411699%2C11.58 </br >\n",
    "Mobility Plan bike lanes tiers are in \"Bicycle_N\" column\n",
    "* Neighborhood Enhanced Network bike lanes https://geohub.lacity.org/datasets/lahub::neighborhood-enhanced-network/explore\n",
    "* Current Bus Lanes: https://www.google.com/maps/d/u/1/edit?mid=10co-9X_jGrJtGBA9qVhwWOqUpQNng2dx&usp=sharing \n",
    "* Mobility plan Bus lanes: https://geohub.lacity.org/datasets/transit-enhanced-network/explore?location=34.018131%2C-118.376481%2C11.68\n",
    "\n",
    "Compare: \n",
    "* Actual Bus Lanes = Mobility Plan tier 1\n",
    "* Actual Bike Lanes Class 4 = Protected (Mobility Plan tier 1)\n",
    "* Actual Bike Lanes Class 2 = Unprotected (Mobility Plan tier 2 and 3)\n",
    "* Actual Bike Lanes Class 3 = Neighborhood Enhanced Network\n",
    "\n",
    "Deliverable: \n",
    "* What % of the mobility plan has been implemented\n",
    "* Geojson result\n",
    "* year > 2015, because Mobility Plan was approved in late 2015\n",
    "\n",
    "Any questions - elena.sunchugasheva@gmail.com"
   ]
  },
  {
   "cell_type": "code",
   "execution_count": null,
   "id": "ee21cad1-30ff-4891-a9a8-44f4e0eb185d",
   "metadata": {
    "tags": []
   },
   "outputs": [],
   "source": [
    "import pandas as pd\n",
    "import geopandas as gpd\n",
    "from shapely.geometry import LineString\n",
    "import folium\n",
    "\n",
    "pd.set_option('display.max_rows', 10000)\n",
    "pd.set_option('display.max_columns', 1000)"
   ]
  },
  {
   "cell_type": "code",
   "execution_count": null,
   "id": "3294e58a-022d-4683-8993-7bd96cc23228",
   "metadata": {
    "tags": []
   },
   "outputs": [],
   "source": [
    "def show_map(gdf1, name1, color1, gdf2, name2, color2):\n",
    "    \n",
    "    f = folium.Figure(width=1000, height=500)\n",
    "    \n",
    "    m = gdf1.explore(\n",
    "        name = name1,\n",
    "        color = color1\n",
    "    ).add_to(f)\n",
    "\n",
    "    map_2 = gdf2.explore(\n",
    "        m=m,  # pass the map object\n",
    "        name = name2,\n",
    "        color = color2\n",
    "    )\n",
    "\n",
    "    folium.TileLayer(\n",
    "        'CartoDB positron',\n",
    "        show=False\n",
    "    ).add_to(m) \n",
    "\n",
    "    folium.LayerControl().add_to(m)\n",
    "    \n",
    "    return m"
   ]
  },
  {
   "cell_type": "markdown",
   "id": "7d612c1b-19eb-4a97-8244-ee22bbc5afb5",
   "metadata": {
    "jp-MarkdownHeadingCollapsed": true,
    "tags": []
   },
   "source": [
    "## bike lanes"
   ]
  },
  {
   "cell_type": "code",
   "execution_count": null,
   "id": "9e3d9447-6a4a-4363-b04a-90e756d39a9a",
   "metadata": {
    "tags": []
   },
   "outputs": [],
   "source": [
    "bike_plan_file = open('Bicycle_Enhanced_Network.geojson')\n",
    "bike_plan_geo_raw = gpd.read_file(bike_plan_file)\n",
    "bike_actual_file = open('City_of_Los_Angeles_Bikeways.geojson')\n",
    "bike_actual_geo_raw = gpd.read_file(bike_actual_file)"
   ]
  },
  {
   "cell_type": "code",
   "execution_count": null,
   "id": "4c1260f7-47fc-4f02-a294-add71565dd43",
   "metadata": {
    "tags": []
   },
   "outputs": [],
   "source": [
    "bike_plan_geo = bike_plan_geo_raw.copy()\n",
    "bike_actual_geo = bike_actual_geo_raw.copy()\n",
    "print(\n",
    "    'Mobility plan records:',\n",
    "    bike_plan_geo.shape[0],\n",
    "    '\\nActual bike lanes records:',\n",
    "    bike_actual_geo.shape[0],\n",
    "    '\\nActual lanes without construction year:',\n",
    "    bike_actual_geo[bike_actual_geo.Year_.isnull()].shape[0]\n",
    ")\n",
    "display(bike_plan_geo.head(1))\n",
    "display(bike_actual_geo.tail(1))"
   ]
  },
  {
   "cell_type": "markdown",
   "id": "a2e0061a-ef0d-4d4a-9787-b8e2dbe54111",
   "metadata": {
    "tags": []
   },
   "source": [
    "### Clean up data\n",
    "\n",
    " actual bike paths surprisingly have z coordinate, so following is the best way to get rid of it (all z==0) I came up with"
   ]
  },
  {
   "cell_type": "code",
   "execution_count": null,
   "id": "515755fe-1a56-4021-b561-c75157ac9b5e",
   "metadata": {
    "tags": []
   },
   "outputs": [],
   "source": [
    "def get_xy(line):\n",
    "    if line.has_z:\n",
    "        xy_line = [xy[:2] for xy in list(line.coords)]\n",
    "    return LineString(xy_line)"
   ]
  },
  {
   "cell_type": "code",
   "execution_count": null,
   "id": "0665cda7-a127-46cd-8233-83df06d08971",
   "metadata": {
    "tags": []
   },
   "outputs": [],
   "source": [
    "bike_actual_geo = bike_actual_geo.explode(ignore_index=False, index_parts=False)\n",
    "bike_actual_geo.geometry = bike_actual_geo.geometry.apply(lambda x: get_xy(x))\n",
    "display(bike_actual_geo.head(1))"
   ]
  },
  {
   "cell_type": "markdown",
   "id": "aa8fd256-c522-4e8c-9c31-ee9796e25af3",
   "metadata": {
    "jp-MarkdownHeadingCollapsed": true,
    "tags": []
   },
   "source": [
    "### Intersecting linestring data\n",
    "As we see below, lines for planned and actual bike paths are not exactly the same (but actually close, see the map below)."
   ]
  },
  {
   "cell_type": "code",
   "execution_count": null,
   "id": "6ea4983d-c831-4224-860d-602ebfcf5a00",
   "metadata": {
    "tags": []
   },
   "outputs": [],
   "source": [
    "# show_map(\n",
    "#     gdf1 = bike_actual_geo[['SECT_ID', 'geometry']],\n",
    "#     name1 = 'actual', \n",
    "#     color1 = 'blue',\n",
    "#     gdf2 = bike_plan_geo[['OBJECTID', 'geometry']],\n",
    "#     name2 = 'plan', \n",
    "#     color2 = 'green',\n",
    "# )"
   ]
  },
  {
   "cell_type": "markdown",
   "id": "dc6db9be-bc7d-4431-b1c7-94140637a5a6",
   "metadata": {
    "jp-MarkdownHeadingCollapsed": true,
    "tags": []
   },
   "source": [
    "### Intersecting a linesting and polygon\n",
    "Lets make a polygon with some width of actual data. We chose it over planned because:\n",
    "1. we won't double count bike paths, planned data has one line where actual data sometines two (one bike lane one way and one lane the other way).\n",
    "2. we're comparing result (implemented bike lanes) with planned data, so there we won't depend on possible irregularities of existing bike paths</br>"
   ]
  },
  {
   "cell_type": "code",
   "execution_count": null,
   "id": "e70e2435-d036-43c5-9a1c-a7dc8cafd0b5",
   "metadata": {
    "tags": []
   },
   "outputs": [],
   "source": [
    "def buffer(gdf, radius, proj='EPSG:4326', proj_calc='EPSG:3857'):\n",
    "    '''\n",
    "    convert a gdf of linestrings into a gdf of polygons with radius\n",
    "    - gdf - GeoDataFrame, has column \"geometry\"\n",
    "    - radius - radius of bufferm meters\n",
    "    - proj - projection of the original dataset\n",
    "    - proj_calc='EPSG:3857' by default\n",
    "    '''\n",
    "    gdf_calc = gdf.to_crs(proj_calc)\n",
    "    #print('data proj:', proj, '\\ncalculation proj: ', proj_calc)\n",
    "    gdf['buffered'] = gdf_calc.buffer(radius, cap_style=2).to_crs(proj)\n",
    "    gdf.set_geometry('buffered', inplace=True)\n",
    "    \n",
    "    # merge all intersecting buffered polygons\n",
    "    gdf_return = gpd.GeoDataFrame(\n",
    "        geometry=[gdf.unary_union]\n",
    "    ).explode(\n",
    "        index_parts=False\n",
    "    ).reset_index(\n",
    "        drop=True\n",
    "    )\n",
    "    gdf_return.geometry.crs = proj\n",
    "    \n",
    "    return gdf_return"
   ]
  },
  {
   "cell_type": "code",
   "execution_count": null,
   "id": "16ebd11f-5c44-4e5b-a194-69660f68bdda",
   "metadata": {
    "tags": []
   },
   "outputs": [],
   "source": [
    "def get_length(gdf, column='geometry', proj='EPSG:4326', proj_calc='EPSG:3857'):\n",
    "    '''\n",
    "    convert a gdf of linestrings into a gdf of polygons with radius\n",
    "    - gdf - GeoDataFrame\n",
    "    - column - column to be used for length calculation if not \"geometry\"\n",
    "    - proj - projection of the original dataset\n",
    "    - proj_calc='EPSG:3857' by default\n",
    "    '''\n",
    "    if not column:\n",
    "        gdf.set_geometry(column, inplace=True)\n",
    "    # convert projection to proj_calc, if default - the units will be in meters\n",
    "    gdf_m = gdf.to_crs(proj_calc)\n",
    "    gdf['length_m'] = gdf_m.length\n",
    "    length_m = gdf.length_m.sum()\n",
    "    \n",
    "    return length_m"
   ]
  },
  {
   "cell_type": "code",
   "execution_count": null,
   "id": "fea04d72-56ea-40cb-a8c9-7a5a2d949193",
   "metadata": {
    "tags": []
   },
   "outputs": [],
   "source": [
    "def compare_length(\n",
    "        name,\n",
    "        gdf_plan,\n",
    "        gdf_actual,\n",
    "        conditions,\n",
    "        year = None,\n",
    "        column_year = 'Year_',\n",
    "        print_map = True,\n",
    "        test_map = False\n",
    "    ):\n",
    "    '''\n",
    "    - name \n",
    "    - gdf_plan - GeoDataFrame of Mobility plan\n",
    "    - gdf_actual - GeoDataFrame of existing roads, has a column_year\n",
    "    - conditions - filter specific types of bike/bus lanes\n",
    "    - year - filter data after construction year\n",
    "    - column_year - column of construction year\n",
    "    - print_map - show final map\n",
    "    - test_map - show interim map\n",
    "    '''\n",
    "    print(name)\n",
    "    \n",
    "    if year:\n",
    "        gdf_actual = gdf_actual[gdf_actual[column_year]>year].copy()\n",
    "    if conditions['plan']:\n",
    "        if 'bike' in key:\n",
    "            gdf_plan = gdf_plan[gdf_plan.BICYCLE_N.isin(\n",
    "                conditions['plan']\n",
    "            )].copy()\n",
    "        if 'bus' in key:\n",
    "            gdf_plan = gdf_plan[gdf_plan.TRANSIT_N.isin(\n",
    "                conditions['plan']\n",
    "            )].copy()\n",
    "    if conditions['actual']:\n",
    "        gdf_actual = gdf_actual[gdf_actual.Class.isin(\n",
    "            conditions['actual']\n",
    "        )].copy()\n",
    "    \n",
    "    # widen linestring to polygon\n",
    "    gdf_actual_buffer = buffer(\n",
    "        gdf_actual, \n",
    "        radius = 10,\n",
    "        proj = gdf_actual.geometry.crs\n",
    "    )\n",
    "    if test_map:\n",
    "        display(\n",
    "            show_map(\n",
    "                gdf2 = gdf_actual_buffer[['geometry']],\n",
    "                name2 = 'implemented', \n",
    "                color2 = 'blue',\n",
    "                gdf1 = gdf_plan[['OBJECTID', 'geometry']],\n",
    "                name1 = 'plan', \n",
    "                color1 = 'green',\n",
    "            )\n",
    "        )\n",
    "    \n",
    "    # intersect polygons of actual and planned paths\n",
    "    gdf_implemented = gpd.overlay(\n",
    "        gdf_plan, \n",
    "        gdf_actual_buffer, \n",
    "        how='intersection',\n",
    "        keep_geom_type=False\n",
    "    )\n",
    "    \n",
    "    # map of buffered planned (green) and implemented (red) paths\n",
    "    if print_map:\n",
    "        display(\n",
    "            show_map(\n",
    "                gdf2 = gdf_implemented[['OBJECTID', 'geometry']],\n",
    "                name2 = 'implemented', \n",
    "                color2 = 'red',\n",
    "                gdf1 = gdf_plan[['OBJECTID', 'geometry']],\n",
    "                name1 = 'plan', \n",
    "                color1 = 'green',\n",
    "            )\n",
    "        )\n",
    "        \n",
    "    print(\n",
    "        'since', year, 'year:',\n",
    "        '\\nimplemented lanes records:', gdf_implemented.shape[0],\n",
    "        '\\nplanned lanes records:', gdf_plan.shape[0]        \n",
    "    )\n",
    "    \n",
    "    percentage = round(\n",
    "        get_length(gdf_implemented)/get_length(gdf_plan)*100, \n",
    "        2\n",
    "    )\n",
    "\n",
    "    return percentage, gdf_implemented"
   ]
  },
  {
   "cell_type": "markdown",
   "id": "1ead5f33-b0f3-4a96-bf83-071954160c89",
   "metadata": {
    "jp-MarkdownHeadingCollapsed": true,
    "tags": []
   },
   "source": [
    "### calculate percentages"
   ]
  },
  {
   "cell_type": "code",
   "execution_count": null,
   "id": "0547fa33-a016-4fec-8ffe-b0b136d786a3",
   "metadata": {
    "tags": []
   },
   "outputs": [],
   "source": [
    "bike_conditions = {\n",
    "    'protected bike lane': {'plan': [1], 'actual': [4]},\n",
    "    'unprotected bike lane': {'plan': [2, 3], 'actual': [2]},\n",
    "}\n",
    "results = []\n",
    "result_gdfs = []\n",
    "\n",
    "for key in bike_conditions.keys():\n",
    "    for year in (None, 2015):\n",
    "        percentage, result_gdf = compare_length(\n",
    "            name = key,\n",
    "            conditions = bike_conditions[key],\n",
    "            gdf_actual = bike_actual_geo[[\n",
    "                            'OBJECTID_12',\n",
    "                            'SECT_ID',\n",
    "                            'Class',\n",
    "                            'Year_',\n",
    "                            'geometry'\n",
    "                        ]],\n",
    "            gdf_plan = bike_plan_geo,\n",
    "            print_map = True,\n",
    "            test_map = False,\n",
    "            year = year,\n",
    "            column_year = 'Year_'\n",
    "        )\n",
    "        results.append([key, year, percentage])\n",
    "        result_gdfs.append([key, year, result_gdf])\n",
    "        \n",
    "        print(\n",
    "            percentage,\n",
    "            f'% of {key} implemented after {year}',\n",
    "            '\\n'\n",
    "        )\n",
    "        \n",
    "    print('\\n----')    "
   ]
  },
  {
   "cell_type": "markdown",
   "id": "bfbf7e6d-c88e-4d5e-a664-6c96c854a145",
   "metadata": {
    "jp-MarkdownHeadingCollapsed": true,
    "tags": []
   },
   "source": [
    "### NEN vs class 3"
   ]
  },
  {
   "cell_type": "code",
   "execution_count": null,
   "id": "e248d7cc-0a93-4a31-892b-0fa26b8665a4",
   "metadata": {
    "tags": []
   },
   "outputs": [],
   "source": [
    "bike_nen_file = open('Neighborhood_Enhanced_Network.geojson')\n",
    "bike_nen_geo_raw = gpd.read_file(bike_nen_file)"
   ]
  },
  {
   "cell_type": "code",
   "execution_count": null,
   "id": "9613b77d-71ae-4a84-a7bf-1885f2554540",
   "metadata": {
    "tags": []
   },
   "outputs": [],
   "source": [
    "bike_nen_geo = bike_nen_geo_raw.copy()\n",
    "print(bike_nen_geo.shape[0])\n",
    "display(bike_nen_geo.head())"
   ]
  },
  {
   "cell_type": "code",
   "execution_count": null,
   "id": "8cc38484-d4ee-43e6-a5d2-4912074bc33b",
   "metadata": {
    "tags": []
   },
   "outputs": [],
   "source": [
    "bike_nen_conditions = {\n",
    "    'NEN bike lane': {'plan': None, 'actual': [3]},\n",
    "}\n",
    "\n",
    "for key in bike_nen_conditions.keys():\n",
    "    for year in (None, 2015):\n",
    "        percentage, result_gdf = compare_length(\n",
    "            name = key,\n",
    "            conditions = bike_nen_conditions[key],\n",
    "            gdf_actual = bike_actual_geo[[\n",
    "                            'OBJECTID_12',\n",
    "                            'SECT_ID',\n",
    "                            'Class',\n",
    "                            'Year_',\n",
    "                            'geometry'\n",
    "                        ]],\n",
    "            gdf_plan = bike_nen_geo,\n",
    "            print_map = True,\n",
    "            year = year,\n",
    "            column_year = 'Year_',\n",
    "            test_map = False\n",
    "        )\n",
    "        results.append([key, year, percentage])\n",
    "        result_gdfs.append([key, year, result_gdf])\n",
    "        \n",
    "        print(\n",
    "            percentage,\n",
    "            f'% of {key} implemented after {year}',\n",
    "            '\\n'\n",
    "        )\n",
    "        \n",
    "    print('\\n----')    "
   ]
  },
  {
   "cell_type": "markdown",
   "id": "0919eed4-19b8-486b-8cc4-c7aaf6cf7451",
   "metadata": {
    "jp-MarkdownHeadingCollapsed": true,
    "tags": []
   },
   "source": [
    "## bus lanes"
   ]
  },
  {
   "cell_type": "code",
   "execution_count": null,
   "id": "43e61e02-ed20-47fe-a0b0-7b2020db0e95",
   "metadata": {
    "tags": []
   },
   "outputs": [],
   "source": [
    "bus_plan_file = open('Transit_Enhanced_Network.geojson')\n",
    "bus_plan_geo_raw = gpd.read_file(bus_plan_file)\n",
    "bus_actual_file = open('Bus_Only_Lanes_in_LA.geojson')\n",
    "bus_actual_geo_raw = gpd.read_file(bus_actual_file)"
   ]
  },
  {
   "cell_type": "code",
   "execution_count": null,
   "id": "9367612c-4f46-4533-a3a3-35c6e3fb3eaa",
   "metadata": {
    "tags": []
   },
   "outputs": [],
   "source": [
    "bus_plan_geo = bus_plan_geo_raw.copy()\n",
    "bus_actual_geo = bus_actual_geo_raw.copy()\n",
    "print(\n",
    "    'Mobility plan records:',\n",
    "    bus_plan_geo.shape[0],\n",
    "    '\\nActual bus lanes records:',\n",
    "    bus_actual_geo.shape[0]\n",
    ")\n",
    "display(bus_plan_geo.head())\n",
    "display(bus_actual_geo.head())"
   ]
  },
  {
   "cell_type": "code",
   "execution_count": null,
   "id": "e2ac8684-abca-4d8e-87b0-095e942cc4a3",
   "metadata": {
    "tags": []
   },
   "outputs": [],
   "source": [
    "# take a look at planned vs existing protected lanes\n",
    "protected_bus_plan = bus_plan_geo[bus_plan_geo.TRANSIT_N==1].copy()\n",
    "display(\n",
    "            show_map(\n",
    "                gdf2 = bus_actual_geo[['Name', 'geometry']],\n",
    "                name2 = 'actual', \n",
    "                color2 = 'blue',\n",
    "                gdf1 = protected_bus_plan[['OBJECTID', 'geometry']],\n",
    "                name1 = 'plan', \n",
    "                color1 = 'green',\n",
    "            )\n",
    "        )"
   ]
  },
  {
   "cell_type": "code",
   "execution_count": null,
   "id": "693ea547-3d31-4df5-a1c8-a18bfdd70f6a",
   "metadata": {
    "tags": []
   },
   "outputs": [],
   "source": [
    "bus_conditions = {\n",
    "    'protected bus lane': {'plan': [1], 'actual': None}\n",
    "}\n",
    "\n",
    "for key in bus_conditions.keys():\n",
    "    year = None\n",
    "    percentage, result_gdf = compare_length(\n",
    "        name = key,\n",
    "        conditions = bus_conditions[key],\n",
    "        gdf_actual = bus_actual_geo[[\n",
    "                        'Name',\n",
    "                        'geometry'\n",
    "                    ]].copy(),\n",
    "        gdf_plan = bus_plan_geo,\n",
    "        print_map = True,\n",
    "        test_map = True,\n",
    "        year = year,\n",
    "        column_year = None \n",
    "    )\n",
    "    results.append([key, year, percentage])\n",
    "    result_gdfs.append([key, year, result_gdf])\n",
    "    \n",
    "    print(\n",
    "        percentage,\n",
    "        f'% of {key} implemented after {year}',\n",
    "        '\\n'\n",
    "    )\n",
    "        \n",
    "    print('\\n----')    "
   ]
  },
  {
   "cell_type": "code",
   "execution_count": null,
   "id": "1357b64b-492c-4de6-a9a7-77c76ef9145d",
   "metadata": {},
   "outputs": [],
   "source": [
    "percentage_all = round(\n",
    "        get_length(bus_actual_geo)/get_length(protected_bus_plan)*100, \n",
    "        2\n",
    "    )"
   ]
  },
  {
   "cell_type": "code",
   "execution_count": null,
   "id": "d35bc84f-5a49-4148-aef7-e5d98d407a0f",
   "metadata": {},
   "outputs": [],
   "source": [
    "results.append([\n",
    "    'all bus lanes',\n",
    "    None,\n",
    "    percentage_all\n",
    "])"
   ]
  },
  {
   "cell_type": "markdown",
   "id": "7b1094dd-3cae-48ba-bebd-2401c4e35ea1",
   "metadata": {
    "jp-MarkdownHeadingCollapsed": true,
    "tags": []
   },
   "source": [
    "## save results"
   ]
  },
  {
   "cell_type": "code",
   "execution_count": null,
   "id": "4ac18017-b343-4d4e-9f69-7df64ab82865",
   "metadata": {
    "tags": []
   },
   "outputs": [],
   "source": [
    "results_df = pd.DataFrame(\n",
    "    columns=['transport type', 'year', 'implemented_perc'],\n",
    "    data = results\n",
    ")\n",
    "display(results_df)"
   ]
  },
  {
   "cell_type": "code",
   "execution_count": null,
   "id": "29c5fabd-fec3-457c-96b3-4211452deec4",
   "metadata": {
    "tags": []
   },
   "outputs": [],
   "source": [
    "results_df.to_csv('mobility_plan_percentage_implemented.csv', index=False)"
   ]
  },
  {
   "cell_type": "code",
   "execution_count": null,
   "id": "ffd1aef3-6c61-409c-96d7-147fd4d364e1",
   "metadata": {
    "tags": []
   },
   "outputs": [],
   "source": [
    "for df in result_gdfs:\n",
    "    name = df[0].replace(' ', '_') + '_implemented'\n",
    "    year = df[1]\n",
    "    if year:\n",
    "        name = name + f'_since_{year}'\n",
    "    df[2].to_file(name + '.geojson', driver='GeoJSON')"
   ]
  }
 ],
 "metadata": {
  "kernelspec": {
   "display_name": "Python 3 (ipykernel)",
   "language": "python",
   "name": "python3"
  },
  "language_info": {
   "codemirror_mode": {
    "name": "ipython",
    "version": 3
   },
   "file_extension": ".py",
   "mimetype": "text/x-python",
   "name": "python",
   "nbconvert_exporter": "python",
   "pygments_lexer": "ipython3",
   "version": "3.11.5"
  }
 },
 "nbformat": 4,
 "nbformat_minor": 5
}

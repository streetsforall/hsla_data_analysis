{
 "cells": [
  {
   "cell_type": "markdown",
   "id": "e361765d-cc4e-489f-9355-9306a8c76997",
   "metadata": {},
   "source": [
    "# get data from TIMS\n",
    "as far as I understand, TIMS gives data only on County level, so for all-California data we need to scrape files separately\n",
    "\n",
    "\n",
    "TODO: so it doesn't load bigger files (~2Mb), not sure why or how to fix it, I tried chromedriver and firefox geckodriver</br>\n",
    "I gave up and downloaded missing files manually"
   ]
  },
  {
   "cell_type": "code",
   "execution_count": null,
   "id": "ac8777b3-9e03-4d75-9ef2-e16794c1c82a",
   "metadata": {
    "tags": []
   },
   "outputs": [],
   "source": [
    "import pandas as pd\n",
    "import requests\n",
    "from selenium import webdriver\n",
    "from selenium.webdriver.chrome.options import Options\n",
    "from selenium.webdriver.common.by import By\n",
    "from selenium.webdriver.common.keys import Keys\n",
    "from selenium.webdriver.support.ui import Select\n",
    "from datetime import datetime\n",
    "import time\n",
    "import os"
   ]
  },
  {
   "cell_type": "code",
   "execution_count": null,
   "id": "20faa23c-271e-492e-8078-9cf09d73eeee",
   "metadata": {
    "tags": []
   },
   "outputs": [],
   "source": [
    "today = datetime.now().strftime('%d/%m/%Y')\n",
    "login_url = 'https://tims.berkeley.edu/login.php'\n",
    "data_url = 'https://tims.berkeley.edu/tools/query/index.php'"
   ]
  },
  {
   "cell_type": "code",
   "execution_count": null,
   "id": "cdd017da-acb6-4579-ab77-c2cb90b6f9d1",
   "metadata": {
    "tags": []
   },
   "outputs": [],
   "source": [
    "# enter your login and password\n",
    "username = input(\"Enter username: \")\n",
    "password = input(\"Enter password: \")"
   ]
  },
  {
   "cell_type": "code",
   "execution_count": null,
   "id": "e0a16b47-1d4b-43fe-ba94-30e47b32c9fe",
   "metadata": {
    "tags": []
   },
   "outputs": [],
   "source": [
    "# Set the path to your local web driver\n",
    "driver_path = 'F:\\progs\\chromedriver\\chromedriver.exe'\n",
    "# driver_path = 'F:/progs/geckodriver/geckodriver.exe'\n",
    "# firefox_binary_path = 'C:/Program Files/Mozilla Firefox/firefox.exe'\n",
    "download_path = r'F:\\work\\streets_for_all\\hsla_data_analysis\\school_speed_limit\\downloads\\\\'\n",
    "\n",
    "chrome_options = Options()\n",
    "chrome_options.add_argument('--headless=new')\n",
    "chrome_options.add_argument(\"--enable-logging\")\n",
    "prefs = {\n",
    "    'download.default_directory': download_path,\n",
    "    'directory_upgrade': True\n",
    "}\n",
    "chrome_options.add_experimental_option(\"prefs\", prefs)\n",
    "\n",
    "# firefox_options = webdriver.FirefoxOptions()\n",
    "# firefox_options.headless = True\n",
    "# firefox_options.set_preference(\"browser.download.folderList\", 2)\n",
    "# firefox_options.set_preference(\"browser.download.dir\", download_path)\n",
    "# firefox_options.set_preference(\"browser.download.useDownloadDir\", True)\n",
    "# #firefox_options.set_preference(\"browser.download.viewableInternally.enabledTypes\", \"\")\n",
    "# #firefox_options.set_preference(\"browser.helperApps.neverAsk.saveToDisk\", \"application/octet-stream,application/vnd.ms-excel,text/csv\")\n",
    "# firefox_options.binary_location = firefox_binary_path"
   ]
  },
  {
   "cell_type": "code",
   "execution_count": null,
   "id": "f217326e-a42a-4e8a-8702-81caca3f864a",
   "metadata": {
    "tags": []
   },
   "outputs": [],
   "source": [
    "driver = webdriver.Chrome(executable_path=driver_path, options=chrome_options)\n",
    "# driver = webdriver.Firefox(executable_path=driver_path, options=firefox_options)"
   ]
  },
  {
   "cell_type": "code",
   "execution_count": null,
   "id": "44435ed7-1060-45cd-b5c7-96069a0c4d90",
   "metadata": {
    "tags": []
   },
   "outputs": [],
   "source": [
    "# login to TIMS\n",
    "driver.get(login_url)\n",
    "username_field = driver.find_element(By.ID, 'e')\n",
    "password_field = driver.find_element(By.ID, 'p')\n",
    "username_field.send_keys(username)\n",
    "password_field.send_keys(password)\n",
    "driver.find_element_by_xpath('//button[@class=\"btn btn-success\"]').click()\n",
    "time.sleep(5)"
   ]
  },
  {
   "cell_type": "code",
   "execution_count": null,
   "id": "6c38c740-8c5b-4c2a-9844-99720b158a3e",
   "metadata": {
    "tags": []
   },
   "outputs": [],
   "source": [
    "values = []\n",
    "for i in range(1, 59):\n",
    "    if len(str(i))==1:\n",
    "        values.append('0'+str(i))\n",
    "    else:\n",
    "        values.append(str(i))"
   ]
  },
  {
   "cell_type": "code",
   "execution_count": null,
   "id": "a79c543f-5c75-4110-9539-8e0441ebdc87",
   "metadata": {
    "tags": []
   },
   "outputs": [],
   "source": [
    "for v in values:\n",
    "    print(v)\n",
    "    # open SWITRS Query\n",
    "    driver.get(data_url)\n",
    "\n",
    "    # enter date\n",
    "    datefrom_field = driver.find_element(By.ID, 'startDate')\n",
    "    dateto_field = driver.find_element(By.ID, 'endDate')\n",
    "    datefrom_field.clear()\n",
    "    datefrom_field.send_keys('01/01/2021')\n",
    "    dateto_field.clear()\n",
    "    dateto_field.send_keys('12/31/2021')\n",
    "\n",
    "    # select county by value 01-58 and city \"all\"\n",
    "    select_county = Select(driver.find_element_by_id('county'))\n",
    "    select_county.select_by_value(v)\n",
    "    select_city = Select(driver.find_element_by_id('city'))\n",
    "    select_city.select_by_value('All')\n",
    "\n",
    "    driver.find_element(\n",
    "        By.XPATH,'//button[@class=\"btn btn-success pull-right\"]'\n",
    "    ).click()\n",
    "    driver.find_element(By.ID, 'downloadButton').click()\n",
    "    driver.find_element(By.ID, 'downloadResult').click()\n",
    "    time.sleep(60)\n",
    "\n",
    "    if os.path.exists(download_path+'Crashes.csv'):\n",
    "        print('renaming file')\n",
    "        last_file = [\n",
    "            file for file in os.listdir(download_path)\n",
    "            if file.endswith('.csv')&file.startswith('Crashes')\n",
    "        ][0]\n",
    "        print(last_file)\n",
    "        os.rename(download_path+last_file, f'{download_path}download_{v}.csv')\n",
    "    else: \n",
    "        print('no file')\n",
    "        continue"
   ]
  },
  {
   "cell_type": "code",
   "execution_count": null,
   "id": "16f48b70-330f-4674-a59a-ac5d7a7bd4af",
   "metadata": {
    "tags": []
   },
   "outputs": [],
   "source": [
    "driver.quit()"
   ]
  },
  {
   "cell_type": "code",
   "execution_count": null,
   "id": "14f3c4d2-28ff-4d30-a75c-b006ed6de5f3",
   "metadata": {
    "tags": []
   },
   "outputs": [],
   "source": [
    "# combine all files into one\n",
    "csv_files = [file for file in os.listdir(download_path) if file.endswith('.csv')]\n",
    "combined_data = pd.DataFrame()\n",
    "columns = ['CASE_ID',\n",
    "           'COLLISION_DATE', 'COLLISION_TIME',\n",
    "           'COUNTY', 'CITY',\n",
    "           'NUMBER_KILLED', 'NUMBER_INJURED',\n",
    "           'LONGITUDE', 'LATITUDE', 'POINT_X', 'POINT_Y'\n",
    "          ]\n",
    "\n",
    "for file in csv_files:\n",
    "    file_path = os.path.join(download_path, file)\n",
    "    data = pd.read_csv(file_path)\n",
    "    combined_data = pd.concat([combined_data, data[columns]], ignore_index=True)\n",
    "\n",
    "combined_data.to_csv('tims_data_california.csv', index=False)"
   ]
  }
 ],
 "metadata": {
  "kernelspec": {
   "display_name": "Python 3 (ipykernel)",
   "language": "python",
   "name": "python3"
  },
  "language_info": {
   "codemirror_mode": {
    "name": "ipython",
    "version": 3
   },
   "file_extension": ".py",
   "mimetype": "text/x-python",
   "name": "python",
   "nbconvert_exporter": "python",
   "pygments_lexer": "ipython3",
   "version": "3.11.5"
  }
 },
 "nbformat": 4,
 "nbformat_minor": 5
}

{
 "cells": [
  {
   "cell_type": "markdown",
   "id": "40108543-aa12-4698-9787-bb6ba88db509",
   "metadata": {},
   "source": [
    "# School zone speed limits analysis\n",
    "\n",
    "This project finds out 2021 crashes with injuries or fatalities that occurred within 1/2 mile of a school in California\n",
    "\n",
    "Sources:\n",
    "* Schools https://data-cdegis.opendata.arcgis.com/datasets/CDEGIS::california-schools-2022-23/explore\n",
    "* Injuries/Deaths in the California https://tims.berkeley.edu/\n",
    "\n",
    "Assumptions:\n",
    "* location - California\n",
    "* year - 2021\n",
    "* within the hours of 7AM-6PM\n",
    "* include all types-- motorists, pedestrians, cyclists\n",
    "\n",
    "Deliverable: \n",
    "* Map and number of the 2021 crashes with injuries or fatalities that occurred within 1/2 mile of a school\n",
    "\n",
    "Any questions - @sunchugasheva"
   ]
  },
  {
   "cell_type": "code",
   "execution_count": 1,
   "id": "08ee6b31-09f1-4ae5-b162-28b0ea419278",
   "metadata": {
    "tags": []
   },
   "outputs": [],
   "source": [
    "import pandas as pd\n",
    "import datetime\n",
    "\n",
    "pd.set_option('display.max_rows', 10000)\n",
    "pd.set_option('display.max_columns', 1000)"
   ]
  },
  {
   "cell_type": "code",
   "execution_count": 2,
   "id": "cc4aeeb1-027f-4c79-8fc2-d1636de7db38",
   "metadata": {
    "tags": []
   },
   "outputs": [
    {
     "name": "stdout",
     "output_type": "stream",
     "text": [
      "2023-12-06 19:51:54.163511\n"
     ]
    }
   ],
   "source": [
    "today = datetime.datetime.now()\n",
    "print(today)"
   ]
  },
  {
   "cell_type": "code",
   "execution_count": null,
   "id": "64030c3e-ef06-4fc9-ad46-c1369163d28d",
   "metadata": {},
   "outputs": [],
   "source": []
  },
  {
   "cell_type": "code",
   "execution_count": null,
   "id": "e5d98cd8-817b-4a1a-b2b4-29e38ce845ba",
   "metadata": {},
   "outputs": [],
   "source": []
  }
 ],
 "metadata": {
  "kernelspec": {
   "display_name": "Python 3 (ipykernel)",
   "language": "python",
   "name": "python3"
  },
  "language_info": {
   "codemirror_mode": {
    "name": "ipython",
    "version": 3
   },
   "file_extension": ".py",
   "mimetype": "text/x-python",
   "name": "python",
   "nbconvert_exporter": "python",
   "pygments_lexer": "ipython3",
   "version": "3.11.5"
  }
 },
 "nbformat": 4,
 "nbformat_minor": 5
}

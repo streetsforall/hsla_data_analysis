{
 "cells": [
  {
   "cell_type": "markdown",
   "id": "40108543-aa12-4698-9787-bb6ba88db509",
   "metadata": {},
   "source": [
    "# Schools with most amount of crashes nearby in LA\n",
    "\n",
    "This project finds out schools where most of the car crashes with injuries or fatalities occurred within 1/4 mile from the school in LA\n",
    "\n",
    "Sources:\n",
    "* Schools https://data-cdegis.opendata.arcgis.com/datasets/CDEGIS::california-schools-2022-23/explore\n",
    "* Injuries/Deaths in the City of LA https://data.lacity.org/Public-Safety/Traffic-Collision-Data-from-2010-to-Present/d5tf-ez2w\n",
    "\n",
    "Assumptions:\n",
    "* location - Los Angeles\n",
    "* year - 2021\n",
    "* within the hours of 7AM-6PM\n",
    "* include all types-- motorists, pedestrians, cyclists\n",
    "\n",
    "Deliverable: \n",
    "* List of schools with highest number of the 2021 crashes with injuries or fatalities that occurred within 1/4 mile of a school\n",
    "\n",
    "Any questions - @sunchugasheva"
   ]
  },
  {
   "cell_type": "code",
   "execution_count": null,
   "id": "08ee6b31-09f1-4ae5-b162-28b0ea419278",
   "metadata": {
    "tags": []
   },
   "outputs": [],
   "source": [
    "import pandas as pd\n",
    "import geopandas as gpd\n",
    "from shapely.geometry import Point\n",
    "import folium\n",
    "import datetime\n",
    "\n",
    "pd.set_option('display.max_rows', 10000)\n",
    "pd.set_option('display.max_columns', 1000)"
   ]
  },
  {
   "cell_type": "code",
   "execution_count": null,
   "id": "cc4aeeb1-027f-4c79-8fc2-d1636de7db38",
   "metadata": {
    "tags": []
   },
   "outputs": [],
   "source": [
    "today = datetime.datetime.now().strftime(\"%Y_%m_%d\")\n",
    "print(today)\n",
    "radius = 0.25 # miles\n",
    "calc_year = 2021"
   ]
  },
  {
   "cell_type": "markdown",
   "id": "d6c3c34d-f7a6-4a78-96ab-acde4dfc926d",
   "metadata": {
    "jp-MarkdownHeadingCollapsed": true,
    "tags": []
   },
   "source": [
    "## functions"
   ]
  },
  {
   "cell_type": "code",
   "execution_count": null,
   "id": "de6e3ec2-536e-479e-b2a7-c5c6a0822566",
   "metadata": {
    "tags": []
   },
   "outputs": [],
   "source": [
    "def col_from_code(col, code):\n",
    "    new_col = col.str.contains('|'.join(code)).replace(\n",
    "        {True: 1, False: 0}\n",
    "    ).fillna(0).astype(int)\n",
    "    \n",
    "    return new_col\n",
    "\n",
    "def get_coords(line):\n",
    "    return list(map(float, line[1:-1].split(', ')))"
   ]
  },
  {
   "cell_type": "markdown",
   "id": "f685e45d-d709-4c88-add3-13f026d9a54b",
   "metadata": {
    "tags": []
   },
   "source": [
    "## Get data"
   ]
  },
  {
   "cell_type": "markdown",
   "id": "aded937e-bd20-432a-8451-b2ef039b3854",
   "metadata": {
    "jp-MarkdownHeadingCollapsed": true,
    "tags": []
   },
   "source": [
    "### crashes"
   ]
  },
  {
   "cell_type": "code",
   "execution_count": null,
   "id": "6a4c1787-84f2-4ed6-aa07-29d4c6b4bb3e",
   "metadata": {
    "tags": []
   },
   "outputs": [],
   "source": [
    "crashes_raw = pd.read_csv('../hsla_injuries_deaths/LAPD_crashes.csv', low_memory=False)\n",
    "display(crashes_raw.head())"
   ]
  },
  {
   "cell_type": "code",
   "execution_count": null,
   "id": "d47e06a5-a11d-4596-bad6-d3042dda74ad",
   "metadata": {
    "tags": []
   },
   "outputs": [],
   "source": [
    "cols_dict = {\n",
    "    'DR Number': 'CASE_ID',\n",
    "    'Date Occurred': 'COLLISION_DATE',\n",
    "    'Time Occurred': 'COLLISION_TIME',\n",
    "    'Location': 'location',\n",
    "    'MO Codes': 'mo_codes',\n",
    "    'Premise Description': 'loc_description'\n",
    "}\n",
    "crashes = crashes_raw.copy().rename(columns = cols_dict)\n",
    "crashes = crashes[cols_dict.values()]\n",
    "crashes['year'] = crashes.COLLISION_DATE.str[-4:].astype(int)\n",
    "crashes.COLLISION_DATE = pd.to_datetime(crashes.COLLISION_DATE).dt.date\n",
    "\n",
    "new_cols_dict = {\n",
    "    'NUMBER_INJURED': ['3024', '3025', '3026'],\n",
    "    'NUMBER_KILLED': ['3027']\n",
    "}\n",
    "for key, value in new_cols_dict.items():\n",
    "    crashes[key] = col_from_code(crashes.mo_codes, value)\n",
    "    \n",
    "locations = [\n",
    "    'STREET', 'SIDEWALK', 'ALLEY', 'DRIVEWAY',\n",
    "    'MTA BUS', 'BUS STOP'\n",
    "]\n",
    "\n",
    "crashes_count = crashes[\n",
    "    ((crashes.NUMBER_INJURED!=0)|(crashes.NUMBER_KILLED!=0))&\n",
    "    (crashes.loc_description.isin(locations))&\n",
    "    (crashes.year==calc_year)&\n",
    "    (crashes.COLLISION_TIME>=700)&\n",
    "    (crashes.COLLISION_TIME<=1800)\n",
    "].copy().reset_index(drop=True)\n",
    "\n",
    "crashes_count.location = crashes_count.location.apply(lambda x: get_coords(x))\n",
    "crashes_count[['POINT_Y', 'POINT_X']] = crashes_count.location.to_list()"
   ]
  },
  {
   "cell_type": "code",
   "execution_count": null,
   "id": "e275480f-38dd-4cdc-a825-c63a5b042c6e",
   "metadata": {
    "tags": []
   },
   "outputs": [],
   "source": [
    "crashes_count.head()"
   ]
  },
  {
   "cell_type": "code",
   "execution_count": null,
   "id": "8c993ee5-e422-4abe-9c0c-f3f425ac1b66",
   "metadata": {
    "tags": []
   },
   "outputs": [],
   "source": [
    "crashes_count.loc_description.unique()"
   ]
  },
  {
   "cell_type": "code",
   "execution_count": null,
   "id": "b0cf892a-5081-4459-93b5-dd1c389da752",
   "metadata": {
    "tags": []
   },
   "outputs": [],
   "source": [
    "crashes_raw.shape, crashes.shape"
   ]
  },
  {
   "cell_type": "code",
   "execution_count": null,
   "id": "c97f15a5-2c22-4bb3-9ea3-508d0b5d2571",
   "metadata": {
    "tags": []
   },
   "outputs": [],
   "source": [
    "crashes_cols = [\n",
    "    'CASE_ID',\n",
    "    'COLLISION_DATE', 'COLLISION_TIME',\n",
    "    'NUMBER_KILLED', 'NUMBER_INJURED',\n",
    "]\n",
    "\n",
    "crashes_count = crashes_count[\n",
    "    crashes_cols + [\n",
    "    'POINT_X', 'POINT_Y'\n",
    "]].copy()"
   ]
  },
  {
   "cell_type": "code",
   "execution_count": null,
   "id": "a025dc2e-2924-463f-bd39-e445662754b3",
   "metadata": {
    "tags": []
   },
   "outputs": [],
   "source": [
    "geometry = [Point(xy) for xy in zip(crashes_count.POINT_X, crashes_count.POINT_Y)]\n",
    "crashes_geo = gpd.GeoDataFrame(\n",
    "    crashes_count[crashes_cols],\n",
    "    crs=\"EPSG:4326\",\n",
    "    geometry=geometry\n",
    ")"
   ]
  },
  {
   "cell_type": "code",
   "execution_count": null,
   "id": "df926e5e-8ed5-4c8f-83a4-38872bba323a",
   "metadata": {
    "tags": []
   },
   "outputs": [],
   "source": [
    "crashes_geo.head()"
   ]
  },
  {
   "cell_type": "markdown",
   "id": "7566e412-38cc-4d3e-aa84-0c4681890ee1",
   "metadata": {
    "jp-MarkdownHeadingCollapsed": true,
    "tags": []
   },
   "source": [
    "### schools"
   ]
  },
  {
   "cell_type": "code",
   "execution_count": null,
   "id": "e5d98cd8-817b-4a1a-b2b4-29e38ce845ba",
   "metadata": {},
   "outputs": [],
   "source": [
    "schools_file = open('California_Schools_2022-23.geojson')\n",
    "schools_geo_raw = gpd.read_file(schools_file)"
   ]
  },
  {
   "cell_type": "code",
   "execution_count": null,
   "id": "f248d7bb-ae4e-496a-9f8a-6e2d116dc7c0",
   "metadata": {
    "tags": []
   },
   "outputs": [],
   "source": [
    "schools_geo_raw.crs"
   ]
  },
  {
   "cell_type": "code",
   "execution_count": null,
   "id": "0ccbf1ae-0111-486c-9224-f161c08ec439",
   "metadata": {
    "tags": []
   },
   "outputs": [],
   "source": [
    "schools_geo = schools_geo_raw[[\n",
    "    'OBJECTID',\n",
    "    'CountyName', 'City',\n",
    "    'Status', 'SchoolLevel',\n",
    "    'geometry'\n",
    "]].copy()"
   ]
  },
  {
   "cell_type": "code",
   "execution_count": null,
   "id": "b421989b-d17c-4070-9297-70f96967a234",
   "metadata": {
    "tags": []
   },
   "outputs": [],
   "source": [
    "schools_geo = schools_geo[\n",
    "    (schools_geo.CountyName=='Los Angeles')&\n",
    "    (schools_geo.City=='Los Angeles')\n",
    "].copy().reset_index(drop=True)"
   ]
  },
  {
   "cell_type": "code",
   "execution_count": null,
   "id": "8284ccf7-db96-40c4-8149-09b3ba51fea1",
   "metadata": {
    "tags": []
   },
   "outputs": [],
   "source": [
    "proj_calc = 'EPSG:3857'\n",
    "proj = schools_geo.crs\n",
    "schools_geo_calc = schools_geo.to_crs('EPSG:3857')\n",
    "print('data proj:', proj, '\\ncalculation proj: ', proj_calc)\n",
    "schools_geo['buffered'] = schools_geo_calc.buffer(\n",
    "    radius*1609.34,\n",
    "    #join_style = 2\n",
    ").to_crs(proj)\n",
    "schools_geo.set_geometry('buffered', inplace=True)"
   ]
  },
  {
   "cell_type": "code",
   "execution_count": null,
   "id": "93a810ab-7f37-4afd-a3d2-b304a881bab3",
   "metadata": {
    "tags": []
   },
   "outputs": [],
   "source": [
    "radius*1609.34"
   ]
  },
  {
   "cell_type": "code",
   "execution_count": null,
   "id": "fb7e7d03-f341-464a-adb1-689f40c55c9f",
   "metadata": {
    "tags": []
   },
   "outputs": [],
   "source": [
    "schools_geo.head()"
   ]
  },
  {
   "cell_type": "code",
   "execution_count": null,
   "id": "992336e0-d36d-4185-a9a3-e4793ddaf2b8",
   "metadata": {
    "tags": []
   },
   "outputs": [],
   "source": [
    "schools_geo.loc[0, 'buffered']"
   ]
  },
  {
   "cell_type": "markdown",
   "id": "21cf13ac-ad7d-4a36-8888-4b9885015aa1",
   "metadata": {
    "jp-MarkdownHeadingCollapsed": true,
    "tags": []
   },
   "source": [
    "## get overlap and get schools ranking"
   ]
  },
  {
   "cell_type": "code",
   "execution_count": null,
   "id": "35f8f4f7-c507-480c-8eb0-749a8e16f61e",
   "metadata": {
    "tags": []
   },
   "outputs": [],
   "source": [
    "gdf_school_accidents = gpd.overlay(\n",
    "        schools_geo, \n",
    "        crashes_geo, \n",
    "        how='intersection',\n",
    "        keep_geom_type=False\n",
    "    )"
   ]
  },
  {
   "cell_type": "code",
   "execution_count": null,
   "id": "cf04816d-382e-4f6b-9e00-6602cd02912d",
   "metadata": {
    "tags": []
   },
   "outputs": [],
   "source": [
    "gdf_school_accidents.head()"
   ]
  },
  {
   "cell_type": "code",
   "execution_count": null,
   "id": "8a500970-3bcd-42f1-bde6-2a2a4249e825",
   "metadata": {
    "tags": []
   },
   "outputs": [],
   "source": [
    "print(\n",
    "    'crashes around schools:', gdf_school_accidents.shape[0],\n",
    "    '\\nduplicated:', gdf_school_accidents[\n",
    "        gdf_school_accidents.CASE_ID.duplicated()\n",
    "    ].shape[0],\n",
    "    '\\nschools:', schools_geo.shape[0], \n",
    "    '\\ncrashes:', crashes_geo.shape[0]\n",
    ")"
   ]
  },
  {
   "cell_type": "code",
   "execution_count": null,
   "id": "fc54d58b-4965-4e8f-9195-f8e10db729ac",
   "metadata": {
    "tags": []
   },
   "outputs": [],
   "source": [
    "gdf_school_accidents = gdf_school_accidents.drop_duplicates(\n",
    "    subset = ['CASE_ID'], \n",
    "    keep = 'first'\n",
    ").reset_index(drop=True)\n",
    "print(\n",
    "    'unique crashes around schools:', gdf_school_accidents.shape[0]\n",
    ")"
   ]
  },
  {
   "cell_type": "code",
   "execution_count": null,
   "id": "cfc475bf-7697-475d-856b-f70dd5f68f33",
   "metadata": {
    "tags": []
   },
   "outputs": [],
   "source": [
    "top_schools_crashes = pd.DataFrame(gdf_school_accidents)\n",
    "top_schools_crashes.head()"
   ]
  },
  {
   "cell_type": "code",
   "execution_count": null,
   "id": "ce1670b0-b0de-4d3b-a65a-d9010ec655a4",
   "metadata": {
    "tags": []
   },
   "outputs": [],
   "source": [
    "top_schools_crashes.OBJECTID.nunique()"
   ]
  },
  {
   "cell_type": "code",
   "execution_count": null,
   "id": "856f6e7f-a1f1-4a85-8dc5-a511e9f4266a",
   "metadata": {
    "tags": []
   },
   "outputs": [],
   "source": [
    "top_schools = top_schools_crashes[[\n",
    "    'OBJECTID', 'City', 'Status', 'SchoolLevel',\n",
    "    'CASE_ID', 'NUMBER_KILLED', 'NUMBER_INJURED'\n",
    "]].groupby(\n",
    "    by=['OBJECTID', 'City', 'Status', 'SchoolLevel']\n",
    ").agg({\n",
    "    'CASE_ID': 'count',\n",
    "    'NUMBER_KILLED': 'sum',\n",
    "    'NUMBER_INJURED': 'sum'\n",
    "}).sort_values(\n",
    "    by=['NUMBER_KILLED', 'NUMBER_INJURED'],\n",
    "    ascending = False\n",
    ").reset_index(drop=False)\n",
    "display(top_schools.head())\n",
    "\n",
    "top_schools_geom = top_schools.merge(\n",
    "    schools_geo[['OBJECTID', 'geometry']], how = 'left')\n",
    "\n",
    "top_schools_gdf = gpd.GeoDataFrame(\n",
    "    top_schools_geom,\n",
    "    crs=\"EPSG:4326\",\n",
    "    geometry='geometry'\n",
    ")\n",
    "top_schools_gdf.head(1)"
   ]
  },
  {
   "cell_type": "markdown",
   "id": "89d932c5-1020-45fa-97d6-4de1b51f66a3",
   "metadata": {},
   "source": [
    "## results"
   ]
  },
  {
   "cell_type": "code",
   "execution_count": null,
   "id": "2b9fb3cb-d75e-4369-a723-743cfe158e79",
   "metadata": {
    "tags": []
   },
   "outputs": [],
   "source": [
    "# # save geojson file\n",
    "# top_schools_gdf.to_file(\n",
    "#     f'LA_schools_radius{radius}miles_stats.geojson',\n",
    "#     driver='GeoJSON'\n",
    "# )\n",
    "# top_schools.to_csv(f'LA_schools_radius{radius}miles_stats.csv', index=False)"
   ]
  },
  {
   "cell_type": "code",
   "execution_count": null,
   "id": "448d7ea3-da10-492d-b087-a6c370f48d25",
   "metadata": {
    "tags": []
   },
   "outputs": [],
   "source": [
    "f = folium.Figure(width=1000, height=500)\n",
    "m = folium.Map(location = [34.05, -118.24], zoom_start=12).add_to(f)\n",
    "\n",
    "map_1 = top_schools_gdf[[\n",
    "    'OBJECTID',\n",
    "    'CASE_ID', 'NUMBER_KILLED', 'NUMBER_INJURED',\n",
    "    'geometry'\n",
    "]].explore(\n",
    "    m=m,\n",
    "    color = 'blue',\n",
    "    #popup = top_schools_gdf['CASE_ID']\n",
    ")\n",
    "\n",
    "folium.TileLayer(\n",
    "    'CartoDB positron',\n",
    "    show=False\n",
    ").add_to(m) \n",
    "folium.LayerControl().add_to(m)\n",
    "\n",
    "m"
   ]
  }
 ],
 "metadata": {
  "kernelspec": {
   "display_name": "Python 3 (ipykernel)",
   "language": "python",
   "name": "python3"
  },
  "language_info": {
   "codemirror_mode": {
    "name": "ipython",
    "version": 3
   },
   "file_extension": ".py",
   "mimetype": "text/x-python",
   "name": "python",
   "nbconvert_exporter": "python",
   "pygments_lexer": "ipython3",
   "version": "3.11.5"
  }
 },
 "nbformat": 4,
 "nbformat_minor": 5
}
